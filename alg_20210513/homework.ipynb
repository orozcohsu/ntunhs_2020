{
 "cells": [
  {
   "cell_type": "code",
   "execution_count": 1,
   "metadata": {},
   "outputs": [],
   "source": [
    "import numpy as np"
   ]
  },
  {
   "cell_type": "code",
   "execution_count": 2,
   "metadata": {},
   "outputs": [],
   "source": [
    "class MarkovChain(object):\n",
    "    def __init__(self, tansition_prob):\n",
    "        self.tansition_prob = tansition_prob\n",
    "        self.states = list(tansition_prob.keys())\n",
    "    \n",
    "    def next_state(self, current_state):\n",
    "        return np.random.choice(\n",
    "            self.states,\n",
    "            p=[self.tansition_prob[current_state][next_state] for next_state in self.states]\n",
    "        )\n",
    "    \n",
    "    def generate_states(self, current_state, no=10):\n",
    "        future_states = []\n",
    "        for i in range(no):\n",
    "            next_state = self.next_state(current_state)\n",
    "            future_states.append(next_state)\n",
    "            current_state=next_state\n",
    "        return future_states"
   ]
  },
  {
   "cell_type": "code",
   "execution_count": 3,
   "metadata": {},
   "outputs": [],
   "source": [
    "tansition_prob = {'start':{'start':0.0,'one':1.0,'pig':0.0,'two':0.0,'happy':0.0,'hail':0.0,'end':0.0},\n",
    "                  'one':{'start':0.0,'one':0.0,'pig':1.0,'two':0.0,'happy':0.0,'hail':0.0,'end':0.0},\n",
    "                  'pig':{'start':0.0,'one':0.0,'pig':0.0,'two':0.25,'happy':0.25,'hail':0.25,'end':0.25},\n",
    "                  'two':{'start':0.0,'one':0.0,'pig':1.0,'two':0.0,'happy':0.0,'hail':0.0,'end':0.0},\n",
    "                  'happy':{'start':0.0,'one':0.0,'pig':1.0,'two':0.0,'happy':0.0,'hail':0.0,'end':0.0},\n",
    "                  'hail':{'start':0.0,'one':0.0,'pig':1.0,'two':0.0,'happy':0.0,'hail':0.0,'end':0.0},\n",
    "                  'end':{'start':0.0,'one':0.0,'pig':0.0,'two':0.0,'happy':0.0,'hail':0.0,'end':1.0},\n",
    "                 }"
   ]
  },
  {
   "cell_type": "code",
   "execution_count": 4,
   "metadata": {},
   "outputs": [],
   "source": [
    "MC = MarkovChain(tansition_prob=tansition_prob)"
   ]
  },
  {
   "cell_type": "code",
   "execution_count": 7,
   "metadata": {},
   "outputs": [
    {
     "data": {
      "text/plain": [
       "'one'"
      ]
     },
     "execution_count": 7,
     "metadata": {},
     "output_type": "execute_result"
    }
   ],
   "source": [
    "MC.next_state(current_state='start')"
   ]
  },
  {
   "cell_type": "code",
   "execution_count": 8,
   "metadata": {},
   "outputs": [
    {
     "data": {
      "text/plain": [
       "['one', 'pig', 'end', 'end', 'end', 'end', 'end', 'end', 'end', 'end']"
      ]
     },
     "execution_count": 8,
     "metadata": {},
     "output_type": "execute_result"
    }
   ],
   "source": [
    "MC.generate_states(current_state='start', no=10)"
   ]
  },
  {
   "cell_type": "code",
   "execution_count": null,
   "metadata": {},
   "outputs": [],
   "source": []
  }
 ],
 "metadata": {
  "kernelspec": {
   "display_name": "Python 3",
   "language": "python",
   "name": "python3"
  },
  "language_info": {
   "codemirror_mode": {
    "name": "ipython",
    "version": 3
   },
   "file_extension": ".py",
   "mimetype": "text/x-python",
   "name": "python",
   "nbconvert_exporter": "python",
   "pygments_lexer": "ipython3",
   "version": "3.7.9"
  },
  "varInspector": {
   "cols": {
    "lenName": 16,
    "lenType": 16,
    "lenVar": 40
   },
   "kernels_config": {
    "python": {
     "delete_cmd_postfix": "",
     "delete_cmd_prefix": "del ",
     "library": "var_list.py",
     "varRefreshCmd": "print(var_dic_list())"
    },
    "r": {
     "delete_cmd_postfix": ") ",
     "delete_cmd_prefix": "rm(",
     "library": "var_list.r",
     "varRefreshCmd": "cat(var_dic_list()) "
    }
   },
   "types_to_exclude": [
    "module",
    "function",
    "builtin_function_or_method",
    "instance",
    "_Feature"
   ],
   "window_display": false
  }
 },
 "nbformat": 4,
 "nbformat_minor": 4
}
