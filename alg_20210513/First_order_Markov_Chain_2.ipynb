{
 "cells": [
  {
   "cell_type": "code",
   "execution_count": 1,
   "metadata": {},
   "outputs": [],
   "source": [
    "import numpy as np"
   ]
  },
  {
   "cell_type": "code",
   "execution_count": 42,
   "metadata": {},
   "outputs": [],
   "source": [
    "trump = open('C:\\\\Users\\\\Lenovo\\\\Documents\\\\git\\\\ntunhs_2020\\\\alg_20210513\\\\speeches_short.txt', encoding='utf8').read()"
   ]
  },
  {
   "cell_type": "code",
   "execution_count": 43,
   "metadata": {},
   "outputs": [
    {
     "name": "stdout",
     "output_type": "stream",
     "text": [
      "['SPEECH', '1', 'Thank', 'you', 'so', 'much.', \"That's\", 'so', 'nice.', \"Isn't\", 'he', 'a', 'great', 'guy.', 'He', \"doesn't\", 'get', 'a', 'fair', 'press;', 'he', \"doesn't\", 'get', 'it.', \"It's\", 'just', 'not', 'fair.', 'And', 'I', 'have', 'to', 'tell', 'you', \"I'm\", 'here,', 'and', 'very', 'strongly', 'here,', 'because', 'I', 'have', 'great', 'respect', 'for', 'Steve', 'King', 'and', 'have', 'great', 'respect', 'likewise', 'for', 'Citizens', 'United,', 'David', 'and', 'everybody,', 'and', 'tremendous', 'resect', 'for', 'the', 'Tea', 'Party.', 'Also,', 'also', 'the', 'people', 'of', 'Iowa.', 'They', 'have', 'something', 'in', 'common.', 'Hard-working', 'people.', 'They', 'want', 'to', 'work,', 'they', 'want', 'to', 'make', 'the', 'country', 'great.', 'I', 'love', 'the', 'people', 'of', 'Iowa.', 'So', \"that's\", 'the', 'way', 'it', 'is.', 'Very', 'simple.', 'With', 'that', 'said,', 'our', 'country', 'is', 'really', 'headed', 'in', 'the', 'wrong', 'direction', 'with', 'a', 'president', 'who', 'is', 'doing', 'an', 'absolutely', 'terrible', 'job.']\n"
     ]
    }
   ],
   "source": [
    "corpus = trump.split()\n",
    " \n",
    "#Display the corpus\n",
    "print(corpus)"
   ]
  },
  {
   "cell_type": "code",
   "execution_count": 44,
   "metadata": {},
   "outputs": [],
   "source": [
    "#create pairs to keys\n",
    "\n",
    "def make_pairs(corpus):\n",
    "    for i in range(len(corpus) - 1):\n",
    "        yield (corpus[i], corpus[i + 1])\n",
    "        \n",
    "pairs = make_pairs(corpus)\n",
    "\n",
    "#output likes\n",
    "#('SPEECH', '1')\n",
    "#('1', '...Thank')\n",
    "#('...Thank', 'you')\n",
    "#('you', 'so')\n",
    "#('so', 'much.')"
   ]
  },
  {
   "cell_type": "code",
   "execution_count": 45,
   "metadata": {},
   "outputs": [],
   "source": [
    "#key and list\n",
    "\n",
    "word_dict = {}\n",
    "\n",
    "for word_1, word_2 in pairs:\n",
    "    if word_1 in word_dict.keys():\n",
    "        word_dict[word_1].append(word_2)\n",
    "    else:\n",
    "        word_dict[word_1] = [word_2]"
   ]
  },
  {
   "cell_type": "code",
   "execution_count": 46,
   "metadata": {},
   "outputs": [
    {
     "data": {
      "text/plain": [
       "{'SPEECH': ['1'],\n",
       " '1': ['Thank'],\n",
       " 'Thank': ['you'],\n",
       " 'you': ['so', \"I'm\"],\n",
       " 'so': ['much.', 'nice.'],\n",
       " 'much.': [\"That's\"],\n",
       " \"That's\": ['so'],\n",
       " 'nice.': [\"Isn't\"],\n",
       " \"Isn't\": ['he'],\n",
       " 'he': ['a', \"doesn't\"],\n",
       " 'a': ['great', 'fair', 'president'],\n",
       " 'great': ['guy.', 'respect', 'respect'],\n",
       " 'guy.': ['He'],\n",
       " 'He': [\"doesn't\"],\n",
       " \"doesn't\": ['get', 'get'],\n",
       " 'get': ['a', 'it.'],\n",
       " 'fair': ['press;'],\n",
       " 'press;': ['he'],\n",
       " 'it.': [\"It's\"],\n",
       " \"It's\": ['just'],\n",
       " 'just': ['not'],\n",
       " 'not': ['fair.'],\n",
       " 'fair.': ['And'],\n",
       " 'And': ['I'],\n",
       " 'I': ['have', 'have', 'love'],\n",
       " 'have': ['to', 'great', 'great', 'something'],\n",
       " 'to': ['tell', 'work,', 'make'],\n",
       " 'tell': ['you'],\n",
       " \"I'm\": ['here,'],\n",
       " 'here,': ['and', 'because'],\n",
       " 'and': ['very', 'have', 'everybody,', 'tremendous'],\n",
       " 'very': ['strongly'],\n",
       " 'strongly': ['here,'],\n",
       " 'because': ['I'],\n",
       " 'respect': ['for', 'likewise'],\n",
       " 'for': ['Steve', 'Citizens', 'the'],\n",
       " 'Steve': ['King'],\n",
       " 'King': ['and'],\n",
       " 'likewise': ['for'],\n",
       " 'Citizens': ['United,'],\n",
       " 'United,': ['David'],\n",
       " 'David': ['and'],\n",
       " 'everybody,': ['and'],\n",
       " 'tremendous': ['resect'],\n",
       " 'resect': ['for'],\n",
       " 'the': ['Tea', 'people', 'country', 'people', 'way', 'wrong'],\n",
       " 'Tea': ['Party.'],\n",
       " 'Party.': ['Also,'],\n",
       " 'Also,': ['also'],\n",
       " 'also': ['the'],\n",
       " 'people': ['of', 'of'],\n",
       " 'of': ['Iowa.', 'Iowa.'],\n",
       " 'Iowa.': ['They', 'So'],\n",
       " 'They': ['have', 'want'],\n",
       " 'something': ['in'],\n",
       " 'in': ['common.', 'the'],\n",
       " 'common.': ['Hard-working'],\n",
       " 'Hard-working': ['people.'],\n",
       " 'people.': ['They'],\n",
       " 'want': ['to', 'to'],\n",
       " 'work,': ['they'],\n",
       " 'they': ['want'],\n",
       " 'make': ['the'],\n",
       " 'country': ['great.', 'is'],\n",
       " 'great.': ['I'],\n",
       " 'love': ['the'],\n",
       " 'So': [\"that's\"],\n",
       " \"that's\": ['the'],\n",
       " 'way': ['it'],\n",
       " 'it': ['is.'],\n",
       " 'is.': ['Very'],\n",
       " 'Very': ['simple.'],\n",
       " 'simple.': ['With'],\n",
       " 'With': ['that'],\n",
       " 'that': ['said,'],\n",
       " 'said,': ['our'],\n",
       " 'our': ['country'],\n",
       " 'is': ['really', 'doing'],\n",
       " 'really': ['headed'],\n",
       " 'headed': ['in'],\n",
       " 'wrong': ['direction'],\n",
       " 'direction': ['with'],\n",
       " 'with': ['a'],\n",
       " 'president': ['who'],\n",
       " 'who': ['is'],\n",
       " 'doing': ['an'],\n",
       " 'an': ['absolutely'],\n",
       " 'absolutely': ['terrible'],\n",
       " 'terrible': ['job.']}"
      ]
     },
     "execution_count": 46,
     "metadata": {},
     "output_type": "execute_result"
    }
   ],
   "source": [
    "word_dict"
   ]
  },
  {
   "cell_type": "code",
   "execution_count": 47,
   "metadata": {},
   "outputs": [
    {
     "name": "stdout",
     "output_type": "stream",
     "text": [
      "Steve\n"
     ]
    }
   ],
   "source": [
    "#build the Markov model\n",
    "\n",
    "first_word = np.random.choice(corpus)\n",
    "print(first_word)\n",
    "#Pick the first word as a capitalized word so that the picked word is not taken from in between a sentence\n",
    "while first_word.islower():\n",
    " \n",
    "    #Start the chain from the picked word\n",
    "    chain = [first_word]\n",
    "    print(\"c:\",chain)\n",
    "    \n",
    "    #Initialize the number of simulation words\n",
    "    n_words = 2\n",
    "\n",
    "    for i in range(n_words):\n",
    "        chain.append(np.random.choice(word_dict[chain[-1]]))\n"
   ]
  },
  {
   "cell_type": "code",
   "execution_count": 48,
   "metadata": {},
   "outputs": [
    {
     "name": "stdout",
     "output_type": "stream",
     "text": [
      "for\n"
     ]
    }
   ],
   "source": [
    "#Prediction\n",
    "print(' '.join(chain))"
   ]
  },
  {
   "cell_type": "code",
   "execution_count": null,
   "metadata": {},
   "outputs": [],
   "source": []
  }
 ],
 "metadata": {
  "kernelspec": {
   "display_name": "Python 3",
   "language": "python",
   "name": "python3"
  },
  "language_info": {
   "codemirror_mode": {
    "name": "ipython",
    "version": 3
   },
   "file_extension": ".py",
   "mimetype": "text/x-python",
   "name": "python",
   "nbconvert_exporter": "python",
   "pygments_lexer": "ipython3",
   "version": "3.7.9"
  },
  "varInspector": {
   "cols": {
    "lenName": 16,
    "lenType": 16,
    "lenVar": 40
   },
   "kernels_config": {
    "python": {
     "delete_cmd_postfix": "",
     "delete_cmd_prefix": "del ",
     "library": "var_list.py",
     "varRefreshCmd": "print(var_dic_list())"
    },
    "r": {
     "delete_cmd_postfix": ") ",
     "delete_cmd_prefix": "rm(",
     "library": "var_list.r",
     "varRefreshCmd": "cat(var_dic_list()) "
    }
   },
   "types_to_exclude": [
    "module",
    "function",
    "builtin_function_or_method",
    "instance",
    "_Feature"
   ],
   "window_display": false
  }
 },
 "nbformat": 4,
 "nbformat_minor": 4
}
