{
 "cells": [
  {
   "cell_type": "code",
   "execution_count": 8,
   "metadata": {},
   "outputs": [],
   "source": [
    "import pandas as pd\n",
    "import numpy as np\n",
    "import seaborn as sns\n",
    "import matplotlib.pyplot as plt\n",
    "import seaborn as sns\n",
    "\n",
    "sns.set_style('whitegrid')"
   ]
  },
  {
   "cell_type": "code",
   "execution_count": 2,
   "metadata": {},
   "outputs": [],
   "source": [
    "avg=1\n",
    "std_dev=.1\n",
    "num_reps=500\n",
    "num_simulations=1000"
   ]
  },
  {
   "cell_type": "code",
   "execution_count": 3,
   "metadata": {},
   "outputs": [],
   "source": [
    "pct_to_target=np.random.normal(avg,std_dev,num_reps).round(2)"
   ]
  },
  {
   "cell_type": "code",
   "execution_count": 6,
   "metadata": {},
   "outputs": [
    {
     "data": {
      "text/plain": [
       "array([1.07, 0.77, 0.89, 1.1 , 1.03, 1.16, 0.98, 0.97, 1.05])"
      ]
     },
     "execution_count": 6,
     "metadata": {},
     "output_type": "execute_result"
    }
   ],
   "source": [
    "pct_to_target[1:10]"
   ]
  },
  {
   "cell_type": "code",
   "execution_count": 38,
   "metadata": {},
   "outputs": [
    {
     "data": {
      "text/plain": [
       "array([200000,  75000, 500000,  75000, 100000, 100000, 300000, 500000,\n",
       "       200000])"
      ]
     },
     "execution_count": 38,
     "metadata": {},
     "output_type": "execute_result"
    }
   ],
   "source": [
    "#sales target\n",
    "#output values are non numeric\n",
    "sales_target_values = [75000, 100000, 200000, 300000, 400000, 500000]\n",
    "sales_target_prob = [.3, .3, .2, .1, .05, .05]\n",
    "sales_target = np.random.choice(sales_target_values, num_reps, p=sales_target_prob)\n",
    "sales_target[1:10]"
   ]
  },
  {
   "cell_type": "code",
   "execution_count": 36,
   "metadata": {},
   "outputs": [
    {
     "data": {
      "text/html": [
       "<div>\n",
       "<style scoped>\n",
       "    .dataframe tbody tr th:only-of-type {\n",
       "        vertical-align: middle;\n",
       "    }\n",
       "\n",
       "    .dataframe tbody tr th {\n",
       "        vertical-align: top;\n",
       "    }\n",
       "\n",
       "    .dataframe thead th {\n",
       "        text-align: right;\n",
       "    }\n",
       "</style>\n",
       "<table border=\"1\" class=\"dataframe\">\n",
       "  <thead>\n",
       "    <tr style=\"text-align: right;\">\n",
       "      <th></th>\n",
       "      <th>Pct_To_Target</th>\n",
       "      <th>Sales_Target</th>\n",
       "      <th>Sales</th>\n",
       "    </tr>\n",
       "  </thead>\n",
       "  <tbody>\n",
       "    <tr>\n",
       "      <th>0</th>\n",
       "      <td>1.15</td>\n",
       "      <td>400000</td>\n",
       "      <td>460000.0</td>\n",
       "    </tr>\n",
       "    <tr>\n",
       "      <th>1</th>\n",
       "      <td>1.07</td>\n",
       "      <td>300000</td>\n",
       "      <td>321000.0</td>\n",
       "    </tr>\n",
       "    <tr>\n",
       "      <th>2</th>\n",
       "      <td>0.77</td>\n",
       "      <td>75000</td>\n",
       "      <td>57750.0</td>\n",
       "    </tr>\n",
       "    <tr>\n",
       "      <th>3</th>\n",
       "      <td>0.89</td>\n",
       "      <td>100000</td>\n",
       "      <td>89000.0</td>\n",
       "    </tr>\n",
       "    <tr>\n",
       "      <th>4</th>\n",
       "      <td>1.10</td>\n",
       "      <td>300000</td>\n",
       "      <td>330000.0</td>\n",
       "    </tr>\n",
       "    <tr>\n",
       "      <th>...</th>\n",
       "      <td>...</td>\n",
       "      <td>...</td>\n",
       "      <td>...</td>\n",
       "    </tr>\n",
       "    <tr>\n",
       "      <th>495</th>\n",
       "      <td>0.96</td>\n",
       "      <td>100000</td>\n",
       "      <td>96000.0</td>\n",
       "    </tr>\n",
       "    <tr>\n",
       "      <th>496</th>\n",
       "      <td>1.18</td>\n",
       "      <td>75000</td>\n",
       "      <td>88500.0</td>\n",
       "    </tr>\n",
       "    <tr>\n",
       "      <th>497</th>\n",
       "      <td>1.06</td>\n",
       "      <td>75000</td>\n",
       "      <td>79500.0</td>\n",
       "    </tr>\n",
       "    <tr>\n",
       "      <th>498</th>\n",
       "      <td>0.93</td>\n",
       "      <td>200000</td>\n",
       "      <td>186000.0</td>\n",
       "    </tr>\n",
       "    <tr>\n",
       "      <th>499</th>\n",
       "      <td>1.05</td>\n",
       "      <td>100000</td>\n",
       "      <td>105000.0</td>\n",
       "    </tr>\n",
       "  </tbody>\n",
       "</table>\n",
       "<p>500 rows × 3 columns</p>\n",
       "</div>"
      ],
      "text/plain": [
       "     Pct_To_Target  Sales_Target     Sales\n",
       "0             1.15        400000  460000.0\n",
       "1             1.07        300000  321000.0\n",
       "2             0.77         75000   57750.0\n",
       "3             0.89        100000   89000.0\n",
       "4             1.10        300000  330000.0\n",
       "..             ...           ...       ...\n",
       "495           0.96        100000   96000.0\n",
       "496           1.18         75000   88500.0\n",
       "497           1.06         75000   79500.0\n",
       "498           0.93        200000  186000.0\n",
       "499           1.05        100000  105000.0\n",
       "\n",
       "[500 rows x 3 columns]"
      ]
     },
     "execution_count": 36,
     "metadata": {},
     "output_type": "execute_result"
    }
   ],
   "source": [
    "df=pd.DataFrame(index=range(num_reps), data={'Pct_To_Target':pct_to_target, 'Sales_Target':sales_target})\n",
    "df['Sales'] = df['Pct_To_Target'] * df['Sales_Target']\n",
    "df"
   ]
  },
  {
   "cell_type": "code",
   "execution_count": 58,
   "metadata": {},
   "outputs": [],
   "source": [
    "def calc_commission_rate(x):\n",
    "        \"\"\" Return the commision rate based on the table:\n",
    "        0-90% = 2%\n",
    "        91-99% = 3%\n",
    "        >=100 = 4%\n",
    "        \"\"\"\n",
    "        if x<= .90:\n",
    "            return .02\n",
    "        if x<= .99:\n",
    "            return .03\n",
    "        else:\n",
    "            return .04"
   ]
  },
  {
   "cell_type": "code",
   "execution_count": 59,
   "metadata": {},
   "outputs": [
    {
     "data": {
      "text/html": [
       "<div>\n",
       "<style scoped>\n",
       "    .dataframe tbody tr th:only-of-type {\n",
       "        vertical-align: middle;\n",
       "    }\n",
       "\n",
       "    .dataframe tbody tr th {\n",
       "        vertical-align: top;\n",
       "    }\n",
       "\n",
       "    .dataframe thead th {\n",
       "        text-align: right;\n",
       "    }\n",
       "</style>\n",
       "<table border=\"1\" class=\"dataframe\">\n",
       "  <thead>\n",
       "    <tr style=\"text-align: right;\">\n",
       "      <th></th>\n",
       "      <th>Pct_To_Target</th>\n",
       "      <th>Sales_Target</th>\n",
       "      <th>Sales</th>\n",
       "      <th>Commission_Rate</th>\n",
       "      <th>Commission_Amount</th>\n",
       "    </tr>\n",
       "  </thead>\n",
       "  <tbody>\n",
       "    <tr>\n",
       "      <th>0</th>\n",
       "      <td>1.09</td>\n",
       "      <td>400000</td>\n",
       "      <td>436000.0</td>\n",
       "      <td>0.04</td>\n",
       "      <td>17440.0</td>\n",
       "    </tr>\n",
       "    <tr>\n",
       "      <th>1</th>\n",
       "      <td>0.95</td>\n",
       "      <td>200000</td>\n",
       "      <td>190000.0</td>\n",
       "      <td>0.03</td>\n",
       "      <td>5700.0</td>\n",
       "    </tr>\n",
       "    <tr>\n",
       "      <th>2</th>\n",
       "      <td>0.97</td>\n",
       "      <td>75000</td>\n",
       "      <td>72750.0</td>\n",
       "      <td>0.03</td>\n",
       "      <td>2182.5</td>\n",
       "    </tr>\n",
       "    <tr>\n",
       "      <th>3</th>\n",
       "      <td>0.89</td>\n",
       "      <td>100000</td>\n",
       "      <td>89000.0</td>\n",
       "      <td>0.02</td>\n",
       "      <td>1780.0</td>\n",
       "    </tr>\n",
       "    <tr>\n",
       "      <th>4</th>\n",
       "      <td>1.02</td>\n",
       "      <td>100000</td>\n",
       "      <td>102000.0</td>\n",
       "      <td>0.04</td>\n",
       "      <td>4080.0</td>\n",
       "    </tr>\n",
       "    <tr>\n",
       "      <th>...</th>\n",
       "      <td>...</td>\n",
       "      <td>...</td>\n",
       "      <td>...</td>\n",
       "      <td>...</td>\n",
       "      <td>...</td>\n",
       "    </tr>\n",
       "    <tr>\n",
       "      <th>495</th>\n",
       "      <td>1.12</td>\n",
       "      <td>200000</td>\n",
       "      <td>224000.0</td>\n",
       "      <td>0.04</td>\n",
       "      <td>8960.0</td>\n",
       "    </tr>\n",
       "    <tr>\n",
       "      <th>496</th>\n",
       "      <td>1.02</td>\n",
       "      <td>200000</td>\n",
       "      <td>204000.0</td>\n",
       "      <td>0.04</td>\n",
       "      <td>8160.0</td>\n",
       "    </tr>\n",
       "    <tr>\n",
       "      <th>497</th>\n",
       "      <td>0.99</td>\n",
       "      <td>75000</td>\n",
       "      <td>74250.0</td>\n",
       "      <td>0.03</td>\n",
       "      <td>2227.5</td>\n",
       "    </tr>\n",
       "    <tr>\n",
       "      <th>498</th>\n",
       "      <td>0.99</td>\n",
       "      <td>200000</td>\n",
       "      <td>198000.0</td>\n",
       "      <td>0.03</td>\n",
       "      <td>5940.0</td>\n",
       "    </tr>\n",
       "    <tr>\n",
       "      <th>499</th>\n",
       "      <td>0.85</td>\n",
       "      <td>75000</td>\n",
       "      <td>63750.0</td>\n",
       "      <td>0.02</td>\n",
       "      <td>1275.0</td>\n",
       "    </tr>\n",
       "  </tbody>\n",
       "</table>\n",
       "<p>500 rows × 5 columns</p>\n",
       "</div>"
      ],
      "text/plain": [
       "     Pct_To_Target  Sales_Target     Sales  Commission_Rate  Commission_Amount\n",
       "0             1.09        400000  436000.0             0.04            17440.0\n",
       "1             0.95        200000  190000.0             0.03             5700.0\n",
       "2             0.97         75000   72750.0             0.03             2182.5\n",
       "3             0.89        100000   89000.0             0.02             1780.0\n",
       "4             1.02        100000  102000.0             0.04             4080.0\n",
       "..             ...           ...       ...              ...                ...\n",
       "495           1.12        200000  224000.0             0.04             8960.0\n",
       "496           1.02        200000  204000.0             0.04             8160.0\n",
       "497           0.99         75000   74250.0             0.03             2227.5\n",
       "498           0.99        200000  198000.0             0.03             5940.0\n",
       "499           0.85         75000   63750.0             0.02             1275.0\n",
       "\n",
       "[500 rows x 5 columns]"
      ]
     },
     "execution_count": 59,
     "metadata": {},
     "output_type": "execute_result"
    }
   ],
   "source": [
    "df['Commission_Rate']=df['Pct_To_Target'].apply(calc_commission_rate)\n",
    "df['Commission_Amount']=df['Commission_Rate']*df['Sales']\n",
    "df"
   ]
  },
  {
   "cell_type": "code",
   "execution_count": 72,
   "metadata": {},
   "outputs": [
    {
     "data": {
      "image/png": "[encoded data removed]",
      "text/plain": [
       "<Figure size 432x288 with 1 Axes>"
      ]
     },
     "metadata": {},
     "output_type": "display_data"
    }
   ],
   "source": [
    "#plot Sales Target\n",
    "plt.title(\"Historical Sales Target Distribution\") \n",
    "df['Sales_Target'].plot(kind='hist', title='Historical Sales Target Distribution')\n",
    "plt.show()"
   ]
  },
  {
   "cell_type": "code",
   "execution_count": 44,
   "metadata": {},
   "outputs": [
    {
     "data": {
      "text/plain": [
       "47375.0"
      ]
     },
     "execution_count": 44,
     "metadata": {},
     "output_type": "execute_result"
    }
   ],
   "source": [
    "#sum up Commission_Amount (top 5 above)\n",
    "df['Commission_Amount'].iloc[0:5].sum()"
   ]
  },
  {
   "cell_type": "code",
   "execution_count": 61,
   "metadata": {},
   "outputs": [],
   "source": [
    "all_stats=[]\n",
    "\n",
    "for i in range(num_simulations):\n",
    "    sales_target = np.random.choice(sales_target_values, num_reps, p=sales_target_prob)\n",
    "    pct_to_target = np.random.normal(avg, std_dev, num_reps).round(2)\n",
    "    \n",
    "    df = pd.DataFrame(index=range(num_reps), data={'Pct_To_Target': pct_to_target,\n",
    "                                                   'Sales_Target': sales_target})\n",
    "    \n",
    "    df['Sales'] = df['Pct_To_Target'] * df['Sales_Target']\n",
    "    \n",
    "    df['Commission_Rate'] = df['Pct_To_Target'].apply(calc_commission_rate)\n",
    "    df['Commission_Amount'] = df['Commission_Rate'] * df['Sales']\n",
    "    \n",
    "    all_stats.append([df['Sales'].sum().round(0),\n",
    "                      df['Commission_Amount'].sum().round(0),\n",
    "                      df['Sales_Target'].sum().round(0)])"
   ]
  },
  {
   "cell_type": "code",
   "execution_count": 62,
   "metadata": {},
   "outputs": [],
   "source": [
    "results_df = pd.DataFrame.from_records(all_stats, columns=['Sales',\n",
    "                                                           'Commission_Amount',\n",
    "                                                           'Sales_Target'])"
   ]
  },
  {
   "cell_type": "code",
   "execution_count": 67,
   "metadata": {},
   "outputs": [
    {
     "data": {
      "text/html": [
       "<style  type=\"text/css\" >\n",
       "</style><table id=\"T_311e7b82_8abc_11eb_8189_005056c00008\" ><thead>    <tr>        <th class=\"blank level0\" ></th>        <th class=\"col_heading level0 col0\" >Sales</th>        <th class=\"col_heading level0 col1\" >Commission_Amount</th>        <th class=\"col_heading level0 col2\" >Sales_Target</th>    </tr></thead><tbody>\n",
       "                <tr>\n",
       "                        <th id=\"T_311e7b82_8abc_11eb_8189_005056c00008level0_row0\" class=\"row_heading level0 row0\" >count</th>\n",
       "                        <td id=\"T_311e7b82_8abc_11eb_8189_005056c00008row0_col0\" class=\"data row0 col0\" >1,000.0</td>\n",
       "                        <td id=\"T_311e7b82_8abc_11eb_8189_005056c00008row0_col1\" class=\"data row0 col1\" >1,000.0</td>\n",
       "                        <td id=\"T_311e7b82_8abc_11eb_8189_005056c00008row0_col2\" class=\"data row0 col2\" >1,000.0</td>\n",
       "            </tr>\n",
       "            <tr>\n",
       "                        <th id=\"T_311e7b82_8abc_11eb_8189_005056c00008level0_row1\" class=\"row_heading level0 row1\" >mean</th>\n",
       "                        <td id=\"T_311e7b82_8abc_11eb_8189_005056c00008row1_col0\" class=\"data row1 col0\" >83,740,800.5</td>\n",
       "                        <td id=\"T_311e7b82_8abc_11eb_8189_005056c00008row1_col1\" class=\"data row1 col1\" >2,860,213.734</td>\n",
       "                        <td id=\"T_311e7b82_8abc_11eb_8189_005056c00008row1_col2\" class=\"data row1 col2\" >83,724,800.0</td>\n",
       "            </tr>\n",
       "            <tr>\n",
       "                        <th id=\"T_311e7b82_8abc_11eb_8189_005056c00008level0_row2\" class=\"row_heading level0 row2\" >std</th>\n",
       "                        <td id=\"T_311e7b82_8abc_11eb_8189_005056c00008row2_col0\" class=\"data row2 col0\" >2,784,749.188929767</td>\n",
       "                        <td id=\"T_311e7b82_8abc_11eb_8189_005056c00008row2_col1\" class=\"data row2 col1\" >104,748.39347342997</td>\n",
       "                        <td id=\"T_311e7b82_8abc_11eb_8189_005056c00008row2_col2\" class=\"data row2 col2\" >2,757,329.836604215</td>\n",
       "            </tr>\n",
       "            <tr>\n",
       "                        <th id=\"T_311e7b82_8abc_11eb_8189_005056c00008level0_row3\" class=\"row_heading level0 row3\" >min</th>\n",
       "                        <td id=\"T_311e7b82_8abc_11eb_8189_005056c00008row3_col0\" class=\"data row3 col0\" >76,074,250.0</td>\n",
       "                        <td id=\"T_311e7b82_8abc_11eb_8189_005056c00008row3_col1\" class=\"data row3 col1\" >2,560,532.0</td>\n",
       "                        <td id=\"T_311e7b82_8abc_11eb_8189_005056c00008row3_col2\" class=\"data row3 col2\" >76,050,000.0</td>\n",
       "            </tr>\n",
       "            <tr>\n",
       "                        <th id=\"T_311e7b82_8abc_11eb_8189_005056c00008level0_row4\" class=\"row_heading level0 row4\" >25%</th>\n",
       "                        <td id=\"T_311e7b82_8abc_11eb_8189_005056c00008row4_col0\" class=\"data row4 col0\" >81,716,125.0</td>\n",
       "                        <td id=\"T_311e7b82_8abc_11eb_8189_005056c00008row4_col1\" class=\"data row4 col1\" >2,784,221.0</td>\n",
       "                        <td id=\"T_311e7b82_8abc_11eb_8189_005056c00008row4_col2\" class=\"data row4 col2\" >81,775,000.0</td>\n",
       "            </tr>\n",
       "            <tr>\n",
       "                        <th id=\"T_311e7b82_8abc_11eb_8189_005056c00008level0_row5\" class=\"row_heading level0 row5\" >50%</th>\n",
       "                        <td id=\"T_311e7b82_8abc_11eb_8189_005056c00008row5_col0\" class=\"data row5 col0\" >83,800,375.0</td>\n",
       "                        <td id=\"T_311e7b82_8abc_11eb_8189_005056c00008row5_col1\" class=\"data row5 col1\" >2,857,236.0</td>\n",
       "                        <td id=\"T_311e7b82_8abc_11eb_8189_005056c00008row5_col2\" class=\"data row5 col2\" >83,750,000.0</td>\n",
       "            </tr>\n",
       "            <tr>\n",
       "                        <th id=\"T_311e7b82_8abc_11eb_8189_005056c00008level0_row6\" class=\"row_heading level0 row6\" >75%</th>\n",
       "                        <td id=\"T_311e7b82_8abc_11eb_8189_005056c00008row6_col0\" class=\"data row6 col0\" >85,647,562.5</td>\n",
       "                        <td id=\"T_311e7b82_8abc_11eb_8189_005056c00008row6_col1\" class=\"data row6 col1\" >2,933,020.5</td>\n",
       "                        <td id=\"T_311e7b82_8abc_11eb_8189_005056c00008row6_col2\" class=\"data row6 col2\" >85,625,000.0</td>\n",
       "            </tr>\n",
       "            <tr>\n",
       "                        <th id=\"T_311e7b82_8abc_11eb_8189_005056c00008level0_row7\" class=\"row_heading level0 row7\" >max</th>\n",
       "                        <td id=\"T_311e7b82_8abc_11eb_8189_005056c00008row7_col0\" class=\"data row7 col0\" >92,771,500.0</td>\n",
       "                        <td id=\"T_311e7b82_8abc_11eb_8189_005056c00008row7_col1\" class=\"data row7 col1\" >3,223,792.0</td>\n",
       "                        <td id=\"T_311e7b82_8abc_11eb_8189_005056c00008row7_col2\" class=\"data row7 col2\" >91,875,000.0</td>\n",
       "            </tr>\n",
       "    </tbody></table>"
      ],
      "text/plain": [
       "<pandas.io.formats.style.Styler at 0x10143408>"
      ]
     },
     "execution_count": 67,
     "metadata": {},
     "output_type": "execute_result"
    }
   ],
   "source": [
    "results_df.describe().style.format('{:,}')"
   ]
  },
  {
   "cell_type": "code",
   "execution_count": 74,
   "metadata": {},
   "outputs": [
    {
     "data": {
      "image/png": "[encoded data removed]",
      "text/plain": [
       "<Figure size 432x288 with 1 Axes>"
      ]
     },
     "metadata": {},
     "output_type": "display_data"
    }
   ],
   "source": [
    "#plot Total Commission Amount\n",
    "results_df['Commission_Amount'].plot(kind='hist', title=\"Total Commission Amount\")\n",
    "plt.show()"
   ]
  },
  {
   "cell_type": "code",
   "execution_count": 75,
   "metadata": {},
   "outputs": [
    {
     "data": {
      "image/png": "[encoded data removed]",
      "text/plain": [
       "<Figure size 432x288 with 1 Axes>"
      ]
     },
     "metadata": {},
     "output_type": "display_data"
    }
   ],
   "source": [
    "results_df['Sales'].plot(kind='hist', title=\"Sales\")\n",
    "plt.show()"
   ]
  },
  {
   "cell_type": "code",
   "execution_count": null,
   "metadata": {},
   "outputs": [],
   "source": []
  }
 ],
 "metadata": {
  "kernelspec": {
   "display_name": "Python 3",
   "language": "python",
   "name": "python3"
  },
  "language_info": {
   "codemirror_mode": {
    "name": "ipython",
    "version": 3
   },
   "file_extension": ".py",
   "mimetype": "text/x-python",
   "name": "python",
   "nbconvert_exporter": "python",
   "pygments_lexer": "ipython3",
   "version": "3.7.9"
  },
  "varInspector": {
   "cols": {
    "lenName": 16,
    "lenType": 16,
    "lenVar": 40
   },
   "kernels_config": {
    "python": {
     "delete_cmd_postfix": "",
     "delete_cmd_prefix": "del ",
     "library": "var_list.py",
     "varRefreshCmd": "print(var_dic_list())"
    },
    "r": {
     "delete_cmd_postfix": ") ",
     "delete_cmd_prefix": "rm(",
     "library": "var_list.r",
     "varRefreshCmd": "cat(var_dic_list()) "
    }
   },
   "types_to_exclude": [
    "module",
    "function",
    "builtin_function_or_method",
    "instance",
    "_Feature"
   ],
   "window_display": false
  }
 },
 "nbformat": 4,
 "nbformat_minor": 4
}
