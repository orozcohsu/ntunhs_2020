{
 "cells": [
  {
   "cell_type": "code",
   "execution_count": 1,
   "metadata": {},
   "outputs": [],
   "source": [
    "import json\n",
    "from pyahp import parse"
   ]
  },
  {
   "cell_type": "code",
   "execution_count": 14,
   "metadata": {},
   "outputs": [
    {
     "data": {
      "text/plain": [
       "{'name': 'Wikipedia Leader Selection',\n",
       " 'method': 'eigenvalue',\n",
       " 'criteria': ['experience', 'education', 'charisma', 'age'],\n",
       " 'subCriteria': {},\n",
       " 'alternatives': ['Tom', 'Dick', 'Harry'],\n",
       " 'preferenceMatrices': {'criteria': [[1, 4, 3, 7],\n",
       "   [0.25, 1, 0.3333, 3],\n",
       "   [0.3333, 3, 1, 5],\n",
       "   [0.1428, 0.333, 0.2, 1]],\n",
       "  'alternatives:experience': [[1, 0.25, 4], [4, 1, 9], [0.25, 0.1111, 1]],\n",
       "  'alternatives:education': [[1, 3, 0.2], [0.3333, 1, 0.1428], [5, 7, 1]],\n",
       "  'alternatives:charisma': [[1, 5, 9], [0.2, 1, 4], [0.1111, 0.25, 1]],\n",
       "  'alternatives:age': [[1, 0.3333, 5], [3, 1, 9], [0.2, 0.1111, 1]]}}"
      ]
     },
     "execution_count": 14,
     "metadata": {},
     "output_type": "execute_result"
    }
   ],
   "source": [
    "with open('wikipedia_leader_selection.json') as json_model:\n",
    "    model = json.load(json_model)\n",
    "model"
   ]
  },
  {
   "cell_type": "code",
   "execution_count": 15,
   "metadata": {},
   "outputs": [
    {
     "data": {
      "text/plain": [
       "array([0.358, 0.493, 0.149])"
      ]
     },
     "execution_count": 15,
     "metadata": {},
     "output_type": "execute_result"
    }
   ],
   "source": [
    "ahp_model = parse(model)\n",
    "priorities = ahp_model.get_priorities()\n",
    "priorities"
   ]
  },
  {
   "cell_type": "code",
   "execution_count": null,
   "metadata": {},
   "outputs": [],
   "source": []
  }
 ],
 "metadata": {
  "kernelspec": {
   "display_name": "Python 3",
   "language": "python",
   "name": "python3"
  },
  "language_info": {
   "codemirror_mode": {
    "name": "ipython",
    "version": 3
   },
   "file_extension": ".py",
   "mimetype": "text/x-python",
   "name": "python",
   "nbconvert_exporter": "python",
   "pygments_lexer": "ipython3",
   "version": "3.7.9"
  },
  "varInspector": {
   "cols": {
    "lenName": 16,
    "lenType": 16,
    "lenVar": 40
   },
   "kernels_config": {
    "python": {
     "delete_cmd_postfix": "",
     "delete_cmd_prefix": "del ",
     "library": "var_list.py",
     "varRefreshCmd": "print(var_dic_list())"
    },
    "r": {
     "delete_cmd_postfix": ") ",
     "delete_cmd_prefix": "rm(",
     "library": "var_list.r",
     "varRefreshCmd": "cat(var_dic_list()) "
    }
   },
   "types_to_exclude": [
    "module",
    "function",
    "builtin_function_or_method",
    "instance",
    "_Feature"
   ],
   "window_display": false
  }
 },
 "nbformat": 4,
 "nbformat_minor": 4
}
