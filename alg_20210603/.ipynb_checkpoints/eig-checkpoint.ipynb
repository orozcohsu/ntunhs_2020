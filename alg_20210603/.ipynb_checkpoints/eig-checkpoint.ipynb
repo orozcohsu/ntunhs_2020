{
 "cells": [
  {
   "cell_type": "code",
   "execution_count": 121,
   "metadata": {},
   "outputs": [],
   "source": [
    "import scipy.linalg as la"
   ]
  },
  {
   "cell_type": "code",
   "execution_count": 142,
   "metadata": {},
   "outputs": [
    {
     "data": {
      "text/plain": [
       "array([[0.6289, 0.6002, 0.6861, 0.5   ],\n",
       "       [0.1258, 0.12  , 0.0858, 0.2143],\n",
       "       [0.1572, 0.2401, 0.1715, 0.2143],\n",
       "       [0.0898, 0.04  , 0.0572, 0.0714]])"
      ]
     },
     "execution_count": 142,
     "metadata": {},
     "output_type": "execute_result"
    }
   ],
   "source": [
    "A = np.array([[0.6289,0.6002,0.6861,0.5],[0.1258,0.12,0.0858,0.2143],[0.1572,0.2401,0.1715,0.2143],\\\n",
    "              [0.0898,0.04,0.0572,0.0714]])\n",
    "A"
   ]
  },
  {
   "cell_type": "code",
   "execution_count": 143,
   "metadata": {},
   "outputs": [],
   "source": [
    "results = la.eig(A)\n",
    "\n",
    "eigvals, eigvecs = la.eig(A)"
   ]
  },
  {
   "cell_type": "code",
   "execution_count": 139,
   "metadata": {},
   "outputs": [
    {
     "name": "stdout",
     "output_type": "stream",
     "text": [
      "Eignvalues [1.49811822+0.j         0.48866721+0.j         0.00250728+0.06228865j\n",
      " 0.00250728-0.06228865j]\n",
      "Eigenvectors [[ 0.9004123 +0.j          0.86661447+0.j          0.72564491+0.j\n",
      "   0.72564491-0.j        ]\n",
      " [ 0.3848505 +0.j         -0.29027806+0.j         -0.01070728+0.05484354j\n",
      "  -0.01070728-0.05484354j]\n",
      " [ 0.18846722+0.j          0.34935346+0.j         -0.50289806+0.20989128j\n",
      "  -0.50289806-0.20989128j]\n",
      " [ 0.07501928+0.j          0.20656757+0.j         -0.18473308-0.37313521j\n",
      "  -0.18473308+0.37313521j]]\n"
     ]
    }
   ],
   "source": [
    "print(\"Eignvalues\", eigvals)\n",
    "print(\"Eigenvectors\", eigvecs)"
   ]
  },
  {
   "cell_type": "code",
   "execution_count": 140,
   "metadata": {},
   "outputs": [
    {
     "name": "stdout",
     "output_type": "stream",
     "text": [
      "[1.49811822 0.48866721 0.00250728 0.00250728]\n"
     ]
    }
   ],
   "source": [
    "#use real to convert the array of eigenvalues to real numbers\n",
    "eigvals = eigvals.real\n",
    "print(eigvals)"
   ]
  },
  {
   "cell_type": "code",
   "execution_count": 154,
   "metadata": {},
   "outputs": [
    {
     "data": {
      "text/plain": [
       "array([[ 0.93965101,  0.68574745,  0.68574745, -0.52467803],\n",
       "       [ 0.18760708, -0.44340124, -0.44340124, -0.44895929],\n",
       "       [ 0.26200826, -0.22541822, -0.22541822,  0.64293606],\n",
       "       [ 0.11494017, -0.01779816, -0.01779816,  0.33133328]])"
      ]
     },
     "execution_count": 154,
     "metadata": {},
     "output_type": "execute_result"
    }
   ],
   "source": [
    "eigvecs=eigvecs.real\n",
    "eigvecs"
   ]
  },
  {
   "cell_type": "code",
   "execution_count": 158,
   "metadata": {},
   "outputs": [
    {
     "name": "stdout",
     "output_type": "stream",
     "text": [
      "Price or Cost 0.37605162856630686\n",
      "Storage Space 0.3430912663351578\n",
      "Camera Quality 0.3430912663351578\n",
      "Looks 0.486976665370799\n"
     ]
    }
   ],
   "source": [
    "s1=0\n",
    "s2=0\n",
    "s3=0\n",
    "s4=0\n",
    "for i in range(len(eigvecs)):\n",
    "    s1+=(abs(eigvecs[i,0]))\n",
    "    s2+=(abs(eigvecs[i,1]))\n",
    "    s3+=(abs(eigvecs[i,2]))\n",
    "    s4+=(abs(eigvecs[i,3]))\n",
    "    \n",
    "print(\"Price or Cost\",s1/4)\n",
    "print(\"Storage Space\",s2/4)\n",
    "print(\"Camera Quality\",s3/4)\n",
    "print(\"Looks\",s4/4)"
   ]
  },
  {
   "cell_type": "code",
   "execution_count": 160,
   "metadata": {},
   "outputs": [
    {
     "name": "stdout",
     "output_type": "stream",
     "text": [
      "[0.93965101 0.18760708 0.26200826 0.11494017]\n",
      "[ 0.68574745 -0.44340124 -0.22541822 -0.01779816]\n"
     ]
    }
   ],
   "source": [
    "#check\n",
    "v1 = eigvecs[:,0] # First column is the first eigenvector\n",
    "print(v1)\n",
    "v2 = eigvecs[:,1] # Second column is the second eigenvector\n",
    "print(v2)"
   ]
  },
  {
   "cell_type": "code",
   "execution_count": 161,
   "metadata": {},
   "outputs": [
    {
     "data": {
      "text/plain": [
       "0.5000709153543893"
      ]
     },
     "execution_count": 161,
     "metadata": {},
     "output_type": "execute_result"
    }
   ],
   "source": [
    "#IF the dot product of eigenvectors and is zero \n",
    "#The number above is very close to zero and is due to rounding errors in the computations) and so they are orthogonal!\n",
    "\n",
    "v1 @ v2"
   ]
  },
  {
   "cell_type": "code",
   "execution_count": 162,
   "metadata": {},
   "outputs": [
    {
     "name": "stdout",
     "output_type": "stream",
     "text": [
      "[[0 9 0 4]\n",
      " [2 7 1 2]\n",
      " [0 7 5 9]\n",
      " [4 4 9 1]]\n"
     ]
    }
   ],
   "source": [
    "#a perfect orthogonal demo\n",
    "n = 4\n",
    "P = np.random.randint(0,10,(n,n))\n",
    "print(P)"
   ]
  },
  {
   "cell_type": "code",
   "execution_count": 163,
   "metadata": {},
   "outputs": [
    {
     "name": "stdout",
     "output_type": "stream",
     "text": [
      "[[ 97  71  99  40]\n",
      " [ 71  58  72  47]\n",
      " [ 99  72 155  82]\n",
      " [ 40  47  82 114]]\n"
     ]
    }
   ],
   "source": [
    "#Create the symmetric matrix\n",
    "#S=P(transposed)P\n",
    "S = P @ P.T\n",
    "print(S)"
   ]
  },
  {
   "cell_type": "code",
   "execution_count": 165,
   "metadata": {},
   "outputs": [
    {
     "name": "stdout",
     "output_type": "stream",
     "text": [
      "[324.01285325  71.91506887   0.5847747   27.48730318]\n"
     ]
    }
   ],
   "source": [
    "evals, evecs = la.eig(S)\n",
    "evals = evals.real\n",
    "print(evals)"
   ]
  },
  {
   "cell_type": "code",
   "execution_count": 166,
   "metadata": {},
   "outputs": [
    {
     "name": "stdout",
     "output_type": "stream",
     "text": [
      "[[ 0.48283202  0.49806227  0.62878193  0.35134101]\n",
      " [ 0.38335666  0.16993632 -0.73030627  0.53926994]\n",
      " [ 0.65679433  0.09341287 -0.17134256 -0.72837969]\n",
      " [ 0.43420285 -0.84518026  0.2047627   0.23496906]]\n"
     ]
    }
   ],
   "source": [
    "#eigenvectors\n",
    "print(evecs)"
   ]
  },
  {
   "cell_type": "code",
   "execution_count": 167,
   "metadata": {},
   "outputs": [
    {
     "data": {
      "text/plain": [
       "5.551115123125783e-17"
      ]
     },
     "execution_count": 167,
     "metadata": {},
     "output_type": "execute_result"
    }
   ],
   "source": [
    "#very closer to 0, it is orthogonal\n",
    "#because we use the perfect matrix (symmetric matrix)\n",
    "v1 = evecs[:,0]\n",
    "v2 = evecs[:,1]\n",
    "\n",
    "v1 @ v2"
   ]
  },
  {
   "cell_type": "code",
   "execution_count": null,
   "metadata": {},
   "outputs": [],
   "source": []
  }
 ],
 "metadata": {
  "kernelspec": {
   "display_name": "Python 3",
   "language": "python",
   "name": "python3"
  },
  "language_info": {
   "codemirror_mode": {
    "name": "ipython",
    "version": 3
   },
   "file_extension": ".py",
   "mimetype": "text/x-python",
   "name": "python",
   "nbconvert_exporter": "python",
   "pygments_lexer": "ipython3",
   "version": "3.7.9"
  },
  "varInspector": {
   "cols": {
    "lenName": 16,
    "lenType": 16,
    "lenVar": 40
   },
   "kernels_config": {
    "python": {
     "delete_cmd_postfix": "",
     "delete_cmd_prefix": "del ",
     "library": "var_list.py",
     "varRefreshCmd": "print(var_dic_list())"
    },
    "r": {
     "delete_cmd_postfix": ") ",
     "delete_cmd_prefix": "rm(",
     "library": "var_list.r",
     "varRefreshCmd": "cat(var_dic_list()) "
    }
   },
   "types_to_exclude": [
    "module",
    "function",
    "builtin_function_or_method",
    "instance",
    "_Feature"
   ],
   "window_display": false
  }
 },
 "nbformat": 4,
 "nbformat_minor": 4
}
