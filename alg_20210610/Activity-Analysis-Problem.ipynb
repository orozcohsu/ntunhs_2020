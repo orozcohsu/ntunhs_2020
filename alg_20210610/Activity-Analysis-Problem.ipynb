{
 "cells": [
  {
   "cell_type": "code",
   "execution_count": 3,
   "metadata": {},
   "outputs": [
    {
     "name": "stdout",
     "output_type": "stream",
     "text": [
      "Activity-Analysis_1:\n",
      "MAXIMIZE\n",
      "55*b + 45*c + 110*d + 80*t + 0\n",
      "SUBJECT TO\n",
      "_C1: 22 b + 5 c + 15 d + 20 t <= 20000\n",
      "\n",
      "_C2: 20 b + 10 c + 25 d + 15 t <= 4000\n",
      "\n",
      "_C3: 10 b + 3 c + 15 d + 8 t <= 2000\n",
      "\n",
      "_C4: 4 c + 20 d <= 3000\n",
      "\n",
      "_C5: 20 b <= 500\n",
      "\n",
      "VARIABLES\n",
      "b Continuous\n",
      "c Continuous\n",
      "d Continuous\n",
      "t Continuous\n",
      "\n",
      "Optimal\n",
      "57.142857 228.57143 20857.142965\n",
      "Optimal number of c to produce is: 57\n",
      "Optimal number of t to produce is: 229\n",
      "Optimal number of d to produce is: 0\n",
      "Optimal number of b to produce is: 0\n"
     ]
    }
   ],
   "source": [
    "from matplotlib import pyplot as plt \n",
    "import pulp as p\n",
    "  \n",
    "# Set Up a LP Maximization Problem:\n",
    "Lp_prob = p.LpProblem('Activity-Analysis_1', p.LpMaximize)\n",
    "  \n",
    "# Set Up Problem Variables: \n",
    "c = p.LpVariable(\"c\", lowBound = 0) # \"c\" for chair\n",
    "t = p.LpVariable(\"t\", lowBound = 0) # \"t\" for table\n",
    "d = p.LpVariable(\"d\", lowBound = 0) # \"d\" for desk\n",
    "b = p.LpVariable(\"b\", lowBound = 0) # \"b\" for bookshelve\n",
    "\n",
    "  \n",
    "# Create Objective Function:\n",
    "Lp_prob += 45 * c + 80 * t + 110 * d + 55 * b    \n",
    "  \n",
    "# Create Constraints: \n",
    "Lp_prob += 5 * c + 20 * t + 15 * d + 22 * b <= 20000\n",
    "Lp_prob += 10 * c + 15 * t + 25 * d + 20 * b <= 4000\n",
    "Lp_prob += 3 * c + 8 * t + 15 * d + 10 * b <= 2000\n",
    "Lp_prob += 4 * c + 20 * d <= 3000\n",
    "Lp_prob += 20 * b <= 500\n",
    "  \n",
    "# Show the problem:\n",
    "print(Lp_prob)\n",
    "  \n",
    "\n",
    "# Solve the Problem:\n",
    "status = Lp_prob.solve()\n",
    "print(p.LpStatus[status])   # Display Solution Status \n",
    "  \n",
    "# Printing the final solution \n",
    "print(p.value(c), p.value(t), p.value(Lp_prob.objective)) \n",
    "\n",
    "# Printing Number of Chairs and Tables:\n",
    "for var in (c,t,d,b):\n",
    "    print('Optimal number of {} to produce is: {:1.0f}'\n",
    "          .format(var.name, var.value()))"
   ]
  },
  {
   "cell_type": "code",
   "execution_count": null,
   "metadata": {},
   "outputs": [],
   "source": []
  },
  {
   "cell_type": "code",
   "execution_count": null,
   "metadata": {},
   "outputs": [],
   "source": []
  }
 ],
 "metadata": {
  "kernelspec": {
   "display_name": "Python 3",
   "language": "python",
   "name": "python3"
  },
  "language_info": {
   "codemirror_mode": {
    "name": "ipython",
    "version": 3
   },
   "file_extension": ".py",
   "mimetype": "text/x-python",
   "name": "python",
   "nbconvert_exporter": "python",
   "pygments_lexer": "ipython3",
   "version": "3.7.9"
  },
  "varInspector": {
   "cols": {
    "lenName": 16,
    "lenType": 16,
    "lenVar": 40
   },
   "kernels_config": {
    "python": {
     "delete_cmd_postfix": "",
     "delete_cmd_prefix": "del ",
     "library": "var_list.py",
     "varRefreshCmd": "print(var_dic_list())"
    },
    "r": {
     "delete_cmd_postfix": ") ",
     "delete_cmd_prefix": "rm(",
     "library": "var_list.r",
     "varRefreshCmd": "cat(var_dic_list()) "
    }
   },
   "types_to_exclude": [
    "module",
    "function",
    "builtin_function_or_method",
    "instance",
    "_Feature"
   ],
   "window_display": false
  }
 },
 "nbformat": 4,
 "nbformat_minor": 4
}
