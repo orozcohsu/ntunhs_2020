{
 "cells": [
  {
   "cell_type": "code",
   "execution_count": 1,
   "metadata": {},
   "outputs": [],
   "source": [
    "import numpy as np\n",
    "import pandas as pd\n",
    "\n",
    "import seaborn as sns\n",
    "import matplotlib.pyplot as plt\n",
    "\n",
    "sns.set_style('whitegrid')"
   ]
  },
  {
   "cell_type": "code",
   "execution_count": 2,
   "metadata": {},
   "outputs": [],
   "source": [
    "import operator"
   ]
  },
  {
   "cell_type": "code",
   "execution_count": 3,
   "metadata": {},
   "outputs": [],
   "source": [
    "summary = pd.read_csv('summary_stats.csv')\n",
    "summary.index = summary.index + 1\n",
    "\n",
    "demand = pd.read_excel('demand.xlsx', 'Data')\n",
    "demand = demand[6:]"
   ]
  },
  {
   "cell_type": "code",
   "execution_count": 4,
   "metadata": {},
   "outputs": [
    {
     "data": {
      "text/html": [
       "<div>\n",
       "<style scoped>\n",
       "    .dataframe tbody tr th:only-of-type {\n",
       "        vertical-align: middle;\n",
       "    }\n",
       "\n",
       "    .dataframe tbody tr th {\n",
       "        vertical-align: top;\n",
       "    }\n",
       "\n",
       "    .dataframe thead th {\n",
       "        text-align: right;\n",
       "    }\n",
       "</style>\n",
       "<table border=\"1\" class=\"dataframe\">\n",
       "  <thead>\n",
       "    <tr style=\"text-align: right;\">\n",
       "      <th></th>\n",
       "      <th>Purchase Cost</th>\n",
       "      <th>Lead Time</th>\n",
       "      <th>Size</th>\n",
       "      <th>Selling Price</th>\n",
       "      <th>Starting Stock</th>\n",
       "      <th>Mean</th>\n",
       "      <th>Std Dev</th>\n",
       "      <th>Co</th>\n",
       "      <th>Ch</th>\n",
       "      <th>Probability</th>\n",
       "      <th>Demand_lead</th>\n",
       "    </tr>\n",
       "  </thead>\n",
       "  <tbody>\n",
       "    <tr>\n",
       "      <th>1</th>\n",
       "      <td>12</td>\n",
       "      <td>9</td>\n",
       "      <td>0.570</td>\n",
       "      <td>16.1</td>\n",
       "      <td>2750</td>\n",
       "      <td>103.501805</td>\n",
       "      <td>37.317994</td>\n",
       "      <td>1000</td>\n",
       "      <td>20</td>\n",
       "      <td>0.756831</td>\n",
       "      <td>705</td>\n",
       "    </tr>\n",
       "    <tr>\n",
       "      <th>2</th>\n",
       "      <td>7</td>\n",
       "      <td>6</td>\n",
       "      <td>0.052</td>\n",
       "      <td>8.6</td>\n",
       "      <td>22500</td>\n",
       "      <td>648.551913</td>\n",
       "      <td>26.446797</td>\n",
       "      <td>1200</td>\n",
       "      <td>20</td>\n",
       "      <td>1.000000</td>\n",
       "      <td>3891</td>\n",
       "    </tr>\n",
       "    <tr>\n",
       "      <th>3</th>\n",
       "      <td>6</td>\n",
       "      <td>16</td>\n",
       "      <td>0.530</td>\n",
       "      <td>10.2</td>\n",
       "      <td>5200</td>\n",
       "      <td>201.677043</td>\n",
       "      <td>31.079301</td>\n",
       "      <td>1000</td>\n",
       "      <td>20</td>\n",
       "      <td>0.702186</td>\n",
       "      <td>2266</td>\n",
       "    </tr>\n",
       "    <tr>\n",
       "      <th>4</th>\n",
       "      <td>37</td>\n",
       "      <td>22</td>\n",
       "      <td>1.050</td>\n",
       "      <td>68.0</td>\n",
       "      <td>1400</td>\n",
       "      <td>150.068965</td>\n",
       "      <td>3.215598</td>\n",
       "      <td>1200</td>\n",
       "      <td>20</td>\n",
       "      <td>0.237705</td>\n",
       "      <td>785</td>\n",
       "    </tr>\n",
       "  </tbody>\n",
       "</table>\n",
       "</div>"
      ],
      "text/plain": [
       "   Purchase Cost  Lead Time   Size  Selling Price  Starting Stock        Mean  \\\n",
       "1             12          9  0.570           16.1            2750  103.501805   \n",
       "2              7          6  0.052            8.6           22500  648.551913   \n",
       "3              6         16  0.530           10.2            5200  201.677043   \n",
       "4             37         22  1.050           68.0            1400  150.068965   \n",
       "\n",
       "     Std Dev    Co  Ch  Probability  Demand_lead  \n",
       "1  37.317994  1000  20     0.756831          705  \n",
       "2  26.446797  1200  20     1.000000         3891  \n",
       "3  31.079301  1000  20     0.702186         2266  \n",
       "4   3.215598  1200  20     0.237705          785  "
      ]
     },
     "execution_count": 4,
     "metadata": {},
     "output_type": "execute_result"
    }
   ],
   "source": [
    "summary"
   ]
  },
  {
   "cell_type": "code",
   "execution_count": 11,
   "metadata": {},
   "outputs": [
    {
     "data": {
      "text/html": [
       "<div>\n",
       "<style scoped>\n",
       "    .dataframe tbody tr th:only-of-type {\n",
       "        vertical-align: middle;\n",
       "    }\n",
       "\n",
       "    .dataframe tbody tr th {\n",
       "        vertical-align: top;\n",
       "    }\n",
       "\n",
       "    .dataframe thead th {\n",
       "        text-align: right;\n",
       "    }\n",
       "</style>\n",
       "<table border=\"1\" class=\"dataframe\">\n",
       "  <thead>\n",
       "    <tr style=\"text-align: right;\">\n",
       "      <th></th>\n",
       "      <th>Product</th>\n",
       "      <th>1</th>\n",
       "      <th>2</th>\n",
       "      <th>3</th>\n",
       "      <th>4</th>\n",
       "    </tr>\n",
       "  </thead>\n",
       "  <tbody>\n",
       "    <tr>\n",
       "      <th>6</th>\n",
       "      <td>0</td>\n",
       "      <td>90</td>\n",
       "      <td>610</td>\n",
       "      <td>204</td>\n",
       "      <td>153</td>\n",
       "    </tr>\n",
       "    <tr>\n",
       "      <th>7</th>\n",
       "      <td>1</td>\n",
       "      <td>94</td>\n",
       "      <td>685</td>\n",
       "      <td>244</td>\n",
       "      <td>147</td>\n",
       "    </tr>\n",
       "    <tr>\n",
       "      <th>8</th>\n",
       "      <td>2</td>\n",
       "      <td>0</td>\n",
       "      <td>649</td>\n",
       "      <td>197</td>\n",
       "      <td>0</td>\n",
       "    </tr>\n",
       "    <tr>\n",
       "      <th>9</th>\n",
       "      <td>3</td>\n",
       "      <td>110</td>\n",
       "      <td>667</td>\n",
       "      <td>0</td>\n",
       "      <td>0</td>\n",
       "    </tr>\n",
       "    <tr>\n",
       "      <th>10</th>\n",
       "      <td>4</td>\n",
       "      <td>106</td>\n",
       "      <td>663</td>\n",
       "      <td>228</td>\n",
       "      <td>0</td>\n",
       "    </tr>\n",
       "    <tr>\n",
       "      <th>...</th>\n",
       "      <td>...</td>\n",
       "      <td>...</td>\n",
       "      <td>...</td>\n",
       "      <td>...</td>\n",
       "      <td>...</td>\n",
       "    </tr>\n",
       "    <tr>\n",
       "      <th>367</th>\n",
       "      <td>361</td>\n",
       "      <td>126</td>\n",
       "      <td>654</td>\n",
       "      <td>255</td>\n",
       "      <td>0</td>\n",
       "    </tr>\n",
       "    <tr>\n",
       "      <th>368</th>\n",
       "      <td>362</td>\n",
       "      <td>0</td>\n",
       "      <td>662</td>\n",
       "      <td>182</td>\n",
       "      <td>0</td>\n",
       "    </tr>\n",
       "    <tr>\n",
       "      <th>369</th>\n",
       "      <td>363</td>\n",
       "      <td>70</td>\n",
       "      <td>671</td>\n",
       "      <td>192</td>\n",
       "      <td>0</td>\n",
       "    </tr>\n",
       "    <tr>\n",
       "      <th>370</th>\n",
       "      <td>364</td>\n",
       "      <td>0</td>\n",
       "      <td>651</td>\n",
       "      <td>177</td>\n",
       "      <td>0</td>\n",
       "    </tr>\n",
       "    <tr>\n",
       "      <th>371</th>\n",
       "      <td>365</td>\n",
       "      <td>102</td>\n",
       "      <td>634</td>\n",
       "      <td>197</td>\n",
       "      <td>150</td>\n",
       "    </tr>\n",
       "  </tbody>\n",
       "</table>\n",
       "<p>366 rows × 5 columns</p>\n",
       "</div>"
      ],
      "text/plain": [
       "    Product    1    2    3    4\n",
       "6         0   90  610  204  153\n",
       "7         1   94  685  244  147\n",
       "8         2    0  649  197    0\n",
       "9         3  110  667    0    0\n",
       "10        4  106  663  228    0\n",
       "..      ...  ...  ...  ...  ...\n",
       "367     361  126  654  255    0\n",
       "368     362    0  662  182    0\n",
       "369     363   70  671  192    0\n",
       "370     364    0  651  177    0\n",
       "371     365  102  634  197  150\n",
       "\n",
       "[366 rows x 5 columns]"
      ]
     },
     "execution_count": 11,
     "metadata": {},
     "output_type": "execute_result"
    }
   ],
   "source": [
    "# Check day of demand of each prooduct 1, 2, 3, 4\n",
    "\n",
    "demand"
   ]
  },
  {
   "cell_type": "code",
   "execution_count": 6,
   "metadata": {},
   "outputs": [
    {
     "data": {
      "text/plain": [
       "<AxesSubplot:ylabel='Frequency'>"
      ]
     },
     "execution_count": 6,
     "metadata": {},
     "output_type": "execute_result"
    },
    {
     "data": {
      "image/png": "[encoded data removed]",
      "text/plain": [
       "<Figure size 864x576 with 4 Axes>"
      ]
     },
     "metadata": {},
     "output_type": "display_data"
    }
   ],
   "source": [
    "# Check demand1 ~ demand4\n",
    "\n",
    "fig, axes = plt.subplots(nrows=2, ncols=2, figsize=(12, 8))\n",
    "demand[1].plot.hist(ax=axes[0, 0])\n",
    "demand[2].plot.hist(ax=axes[0, 1])\n",
    "demand[3].plot.hist(ax=axes[1, 0])\n",
    "demand[4].plot.hist(ax=axes[1, 1])"
   ]
  },
  {
   "cell_type": "code",
   "execution_count": 7,
   "metadata": {},
   "outputs": [],
   "source": [
    "# Product class\n",
    "\n",
    "class Product:\n",
    "    \n",
    "    def __init__(self, i):\n",
    "        \"\"\"\n",
    "        :type i: int - Product number\n",
    "        \"\"\"\n",
    "        if i <1:\n",
    "            raise  ValueError(\"invalid argument!\") \n",
    "        \n",
    "        self.i = i\n",
    "        self.unit_cost = summary['Purchase Cost'].iloc[i - 1]\n",
    "        self.lead_time = summary['Lead Time'].iloc[i - 1]\n",
    "        self.size = summary['Size'].iloc[i - 1]\n",
    "        self.selling_price = summary['Selling Price'].iloc[i - 1]\n",
    "        self.holding_cost = summary['Ch'].iloc[i - 1]\n",
    "        self.ordering_cost = summary['Co'].iloc[i - 1]\n",
    "        self.probability = summary['Probability'].iloc[i - 1]\n",
    "        self.starting_stock = summary['Starting Stock'].iloc[i - 1]\n",
    "        self.demand_lead = summary['Demand_lead'].iloc[i - 1]\n",
    "\n",
    "        #product log average\n",
    "        self.mean = np.mean([np.log(j) for j in demand[demand[i] > 0][i]])\n",
    "        #product log std\n",
    "        self.sd = np.std([np.log(j) for j in demand[demand[i] > 0][i]])"
   ]
  },
  {
   "cell_type": "code",
   "execution_count": null,
   "metadata": {},
   "outputs": [],
   "source": []
  },
  {
   "cell_type": "code",
   "execution_count": 8,
   "metadata": {},
   "outputs": [],
   "source": [
    "# Drawing from a log normal distribution\n",
    "\n",
    "#use random uniform to compare with value of probability \n",
    "#it returns 0 or exp(random normal value)\n",
    "\n",
    "def daily_demand(mean, sd, probability):\n",
    "    random_num = np.random.uniform(0, 1)\n",
    "    if random_num > probability:\n",
    "        return 0\n",
    "    else:\n",
    "        return np.exp(np.random.normal(mean, sd))"
   ]
  },
  {
   "cell_type": "code",
   "execution_count": 12,
   "metadata": {},
   "outputs": [],
   "source": [
    "# Simulating a Monte Carlo rays for 1 year\n",
    "\n",
    "def monte_carlo_rays(M, product, review_period=30):\n",
    "    inventory = product.starting_stock\n",
    "    mean = product.mean\n",
    "    sd = product.sd\n",
    "    lead_time = product.lead_time\n",
    "    probability = product.probability\n",
    "\n",
    "    #product order quantity, it based on the expected inventory (M) and current inventory \n",
    "    q = 0\n",
    "    #if demands > inventory, we count it in the stock_out\n",
    "    stock_out = 0\n",
    "    #dictionary to store all the information\n",
    "    data = {'inv_level': [], 'daily_demand': [], 'units_sold': [], 'units_lost': [], 'orders': []}\n",
    "\n",
    "    #365 days\n",
    "    for day in range(1, 365):\n",
    "        day_demand = daily_demand(mean, sd, probability)\n",
    "        data['daily_demand'].append(day_demand)\n",
    "\n",
    "        #re-stocking day\n",
    "        if day % (review_period + lead_time) == 0:\n",
    "            q = M - inventory\n",
    "            data['orders'].append(q)\n",
    "            inventory += q\n",
    "\n",
    "        if inventory - day_demand >= 0:\n",
    "            data['units_sold'].append(day_demand)\n",
    "            inventory -= day_demand\n",
    "            \n",
    "        elif inventory - day_demand < 0:\n",
    "            data['units_sold'].append(inventory)\n",
    "            data['units_lost'].append(day_demand - inventory)\n",
    "            inventory = 0\n",
    "            stock_out += 1\n",
    "\n",
    "        data['inv_level'].append(inventory)\n",
    "\n",
    "    return data"
   ]
  },
  {
   "cell_type": "code",
   "execution_count": null,
   "metadata": {},
   "outputs": [],
   "source": []
  },
  {
   "cell_type": "code",
   "execution_count": null,
   "metadata": {},
   "outputs": [],
   "source": []
  },
  {
   "cell_type": "code",
   "execution_count": 15,
   "metadata": {},
   "outputs": [],
   "source": [
    "def calculate_profit(data, product):\n",
    "    unit_cost = product.unit_cost\n",
    "    selling_price = product.selling_price\n",
    "    #Ch column of dataset\n",
    "    holding_cost = product.holding_cost\n",
    "    #Co column of dataset\n",
    "    order_cost = product.ordering_cost\n",
    "    size = product.size\n",
    "    days = 365\n",
    "\n",
    "    #customized formular \n",
    "    revenue = sum(data['units_sold']) * selling_price\n",
    "    Co = len(data['orders']) * order_cost\n",
    "    Ch = sum(data['inv_level']) * holding_cost * size * (1 / days)\n",
    "    cost = sum(data['orders']) * unit_cost\n",
    "\n",
    "    profit = revenue - cost - Co - Ch\n",
    "\n",
    "    return profit"
   ]
  },
  {
   "cell_type": "code",
   "execution_count": 50,
   "metadata": {},
   "outputs": [],
   "source": [
    "def mc_simulation(product, M, num_simulations=100):\n",
    "    profit_list = []\n",
    "    orders_lost_list = []\n",
    "    \n",
    "    for sim in range(num_simulations):\n",
    "        data = monte_carlo_rays(M, product)\n",
    "        \n",
    "        #calculating the profit\n",
    "        profit = calculate_profit(data, product)\n",
    "        profit_list.append(profit)\n",
    "        \n",
    "        #calculating the orders lost\n",
    "        total_demand = sum(data['daily_demand'])\n",
    "        unsold_orders = sum(data['units_lost'])\n",
    "        orders_lost_list.append(unsold_orders/total_demand)\n",
    "\n",
    "    return profit_list, orders_lost_list"
   ]
  },
  {
   "cell_type": "code",
   "execution_count": 61,
   "metadata": {},
   "outputs": [
    {
     "name": "stdout",
     "output_type": "stream",
     "text": [
      "[47740.82580920545, 47859.27095767419]\n"
     ]
    }
   ],
   "source": [
    "# Start to simulate product 1\n",
    "\n",
    "product_1 = Product(1)\n",
    "\n",
    "#set the expected inventory is 3000\n",
    "#returns all profit and orders lost\n",
    "p_list = mc_simulation(product_1, 3000, 1000)\n",
    "\n",
    "print([np.mean(p_list), np.std(p_list)])"
   ]
  },
  {
   "cell_type": "code",
   "execution_count": 63,
   "metadata": {},
   "outputs": [
    {
     "data": {
      "image/png": "[encoded data removed]",
      "text/plain": [
       "<Figure size 360x360 with 1 Axes>"
      ]
     },
     "metadata": {},
     "output_type": "display_data"
    }
   ],
   "source": [
    "# Plot product 1 profit\n",
    "\n",
    "p_list, o_list = mc_simulation(Product(1), 3000, 1000)\n",
    "sns.displot(p_list, kde=False)\n",
    "plt.show()"
   ]
  },
  {
   "cell_type": "code",
   "execution_count": 64,
   "metadata": {},
   "outputs": [
    {
     "name": "stdout",
     "output_type": "stream",
     "text": [
      "[95156.67170613473, 4510.655201348044]\n"
     ]
    }
   ],
   "source": [
    "print([np.mean(p_list), np.std(p_list)])"
   ]
  },
  {
   "cell_type": "code",
   "execution_count": 65,
   "metadata": {},
   "outputs": [
    {
     "name": "stdout",
     "output_type": "stream",
     "text": [
      "0.06801237421364376\n"
     ]
    }
   ],
   "source": [
    "print(np.mean(o_list))"
   ]
  },
  {
   "cell_type": "code",
   "execution_count": 138,
   "metadata": {},
   "outputs": [
    {
     "data": {
      "image/png": "[encoded data removed]",
      "text/plain": [
       "<Figure size 1800x576 with 1 Axes>"
      ]
     },
     "metadata": {},
     "output_type": "display_data"
    }
   ],
   "source": [
    "# plot 365 days inventory information\n",
    "\n",
    "data = monte_carlo_rays(3000, product_1)\n",
    "plt.figure(figsize=(25,8))\n",
    "plt.plot(data['inv_level'])\n",
    "plt.axhline(3000, linewidth=1, color=\"grey\", linestyle=\":\")\n",
    "plt.show()"
   ]
  },
  {
   "cell_type": "code",
   "execution_count": 130,
   "metadata": {},
   "outputs": [],
   "source": [
    "def periodic_review(product, low, high, step=50):\n",
    "    m_range = [i for i in range(low, high, step)]\n",
    "    review_dict = {}\n",
    "\n",
    "    for M in m_range:\n",
    "        p_list, o_list = mc_simulation(product, M)\n",
    "        #Order-point: M\n",
    "        #Expected Profit: np.mean(p_list)\n",
    "        #Quantile(5%) of Profit: np.quantile(p_list, 0.05)\n",
    "        #Quantile(95%) of Profit: np.quantile(p_list, 0.55)\n",
    "        #Profit Standard Deviation: np.std(p_list)\n",
    "        #Proportion of Lost Orders: np.mean(o_list)\n",
    "        review_dict[M] = (np.mean(p_list), np.quantile(p_list, 0.05), np.quantile(p_list, 0.95), np.std(p_list), np.mean(o_list))\n",
    "\n",
    "    return review_dict"
   ]
  },
  {
   "cell_type": "code",
   "execution_count": null,
   "metadata": {},
   "outputs": [],
   "source": []
  },
  {
   "cell_type": "code",
   "execution_count": 102,
   "metadata": {},
   "outputs": [
    {
     "data": {
      "image/png": "[encoded data removed]",
      "text/plain": [
       "<Figure size 432x288 with 1 Axes>"
      ]
     },
     "metadata": {},
     "output_type": "display_data"
    }
   ],
   "source": [
    "# Set order point (M) range of 1500 to 4500 of product 1 profit \n",
    "# Around 3000 is the peak of profit \n",
    "\n",
    "review = periodic_review(Product(1), 1500, 4500)\n",
    "xx = [i for i in review.keys()]\n",
    "yy = []\n",
    "for val in review.values():\n",
    "    yy.append(val[0])\n",
    "\n",
    "plt.plot(xx, yy)\n",
    "plt.show()"
   ]
  },
  {
   "cell_type": "code",
   "execution_count": 103,
   "metadata": {},
   "outputs": [
    {
     "data": {
      "text/plain": [
       "(2950,\n",
       " (96127.86336419392,\n",
       "  88927.58098864545,\n",
       "  102430.42253020243,\n",
       "  4235.193287580355,\n",
       "  0.07457002585592926))"
      ]
     },
     "execution_count": 103,
     "metadata": {},
     "output_type": "execute_result"
    }
   ],
   "source": [
    "# Found 2950\n",
    "max(review.items(), key=operator.itemgetter(1))"
   ]
  },
  {
   "cell_type": "code",
   "execution_count": null,
   "metadata": {},
   "outputs": [],
   "source": [
    "# Creating a dataframe with all the results\n",
    "\n",
    "idx = ['Expected Inventory', 'Expected Profit', 'Profit Standard Deviation', 'Proportion of Lost Orders']\n",
    "review = periodic_review(Product(1), 2500, 4000, 10)\n",
    "prod_review_1 = max(review.items(), key=operator.itemgetter(1))\n",
    "\n",
    "review = periodic_review(Product(2), 23000, 24000, 10)\n",
    "prod_review_2 = max(review.items(), key=operator.itemgetter(1))\n",
    "\n",
    "review = periodic_review(Product(3), 6200, 6800, 10)\n",
    "prod_review_3 = max(review.items(), key=operator.itemgetter(1))\n",
    "\n",
    "review = periodic_review(Product(4), 2000, 2400, 10)\n",
    "prod_review_4 = max(review.items(), key=operator.itemgetter(1))"
   ]
  },
  {
   "cell_type": "code",
   "execution_count": null,
   "metadata": {},
   "outputs": [],
   "source": []
  },
  {
   "cell_type": "code",
   "execution_count": 97,
   "metadata": {},
   "outputs": [],
   "source": [
    "df_product_review = pd.DataFrame(\n",
    "    {'1': [prod_review_1[0], prod_review_1[1][0], prod_review_1[1][3], prod_review_1[1][4]],\n",
    "     '2': [prod_review_2[0], prod_review_2[1][0], prod_review_2[1][3], prod_review_2[1][4]],\n",
    "     '3': [prod_review_3[0], prod_review_3[1][0], prod_review_3[1][3], prod_review_3[1][4]],\n",
    "     '4': [prod_review_4[0], prod_review_4[1][0], prod_review_4[1][3], prod_review_4[1][4]]})"
   ]
  },
  {
   "cell_type": "code",
   "execution_count": 98,
   "metadata": {},
   "outputs": [
    {
     "data": {
      "text/html": [
       "<div>\n",
       "<style scoped>\n",
       "    .dataframe tbody tr th:only-of-type {\n",
       "        vertical-align: middle;\n",
       "    }\n",
       "\n",
       "    .dataframe tbody tr th {\n",
       "        vertical-align: top;\n",
       "    }\n",
       "\n",
       "    .dataframe thead th {\n",
       "        text-align: right;\n",
       "    }\n",
       "</style>\n",
       "<table border=\"1\" class=\"dataframe\">\n",
       "  <thead>\n",
       "    <tr style=\"text-align: right;\">\n",
       "      <th></th>\n",
       "      <th>1</th>\n",
       "      <th>2</th>\n",
       "      <th>3</th>\n",
       "      <th>4</th>\n",
       "    </tr>\n",
       "  </thead>\n",
       "  <tbody>\n",
       "    <tr>\n",
       "      <th>Order-point M</th>\n",
       "      <td>2990.000000</td>\n",
       "      <td>23270.000000</td>\n",
       "      <td>6400.000000</td>\n",
       "      <td>2240.000000</td>\n",
       "    </tr>\n",
       "    <tr>\n",
       "      <th>Expected Profit</th>\n",
       "      <td>96629.081763</td>\n",
       "      <td>369455.174268</td>\n",
       "      <td>194297.611345</td>\n",
       "      <td>320162.094243</td>\n",
       "    </tr>\n",
       "    <tr>\n",
       "      <th>Profit Standard Deviation</th>\n",
       "      <td>4350.066750</td>\n",
       "      <td>664.443454</td>\n",
       "      <td>6694.497250</td>\n",
       "      <td>26200.046186</td>\n",
       "    </tr>\n",
       "    <tr>\n",
       "      <th>Proportion of Lost Orders</th>\n",
       "      <td>0.071851</td>\n",
       "      <td>0.005237</td>\n",
       "      <td>0.065828</td>\n",
       "      <td>0.055558</td>\n",
       "    </tr>\n",
       "  </tbody>\n",
       "</table>\n",
       "</div>"
      ],
      "text/plain": [
       "                                      1              2              3  \\\n",
       "Order-point M               2990.000000   23270.000000    6400.000000   \n",
       "Expected Profit            96629.081763  369455.174268  194297.611345   \n",
       "Profit Standard Deviation   4350.066750     664.443454    6694.497250   \n",
       "Proportion of Lost Orders      0.071851       0.005237       0.065828   \n",
       "\n",
       "                                       4  \n",
       "Order-point M                2240.000000  \n",
       "Expected Profit            320162.094243  \n",
       "Profit Standard Deviation   26200.046186  \n",
       "Proportion of Lost Orders       0.055558  "
      ]
     },
     "execution_count": 98,
     "metadata": {},
     "output_type": "execute_result"
    }
   ],
   "source": [
    "df_product_review = df_product_review.set_index(pd.Index(idx))\n",
    "df_product_review"
   ]
  },
  {
   "cell_type": "code",
   "execution_count": null,
   "metadata": {},
   "outputs": [],
   "source": []
  },
  {
   "cell_type": "code",
   "execution_count": null,
   "metadata": {},
   "outputs": [],
   "source": []
  }
 ],
 "metadata": {
  "kernelspec": {
   "display_name": "Python 3",
   "language": "python",
   "name": "python3"
  },
  "language_info": {
   "codemirror_mode": {
    "name": "ipython",
    "version": 3
   },
   "file_extension": ".py",
   "mimetype": "text/x-python",
   "name": "python",
   "nbconvert_exporter": "python",
   "pygments_lexer": "ipython3",
   "version": "3.7.9"
  },
  "varInspector": {
   "cols": {
    "lenName": 16,
    "lenType": 16,
    "lenVar": 40
   },
   "kernels_config": {
    "python": {
     "delete_cmd_postfix": "",
     "delete_cmd_prefix": "del ",
     "library": "var_list.py",
     "varRefreshCmd": "print(var_dic_list())"
    },
    "r": {
     "delete_cmd_postfix": ") ",
     "delete_cmd_prefix": "rm(",
     "library": "var_list.r",
     "varRefreshCmd": "cat(var_dic_list()) "
    }
   },
   "types_to_exclude": [
    "module",
    "function",
    "builtin_function_or_method",
    "instance",
    "_Feature"
   ],
   "window_display": false
  }
 },
 "nbformat": 4,
 "nbformat_minor": 4
}
