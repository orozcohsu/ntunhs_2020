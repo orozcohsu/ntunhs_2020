{
 "cells": [
  {
   "cell_type": "code",
   "execution_count": 2,
   "metadata": {},
   "outputs": [
    {
     "name": "stdout",
     "output_type": "stream",
     "text": [
      "[-1, 0]\n",
      "[-1, 0, 1]\n",
      "[-1, 0, 1, 0]\n",
      "[-1, 0, 1, 0, -1]\n",
      "[-1, 0, 1, 0, -1, -2]\n",
      "[-1, 0, 1, 0, -1, -2, -1]\n",
      "[-1, 0, 1, 0, -1, -2, -1, 0]\n",
      "[-1, 0, 1, 0, -1, -2, -1, 0, -1]\n",
      "[-1, 0, 1, 0, -1, -2, -1, 0, -1, -2]\n"
     ]
    },
    {
     "data": {
      "image/png": "[encoded data removed]",
      "text/plain": [
       "<Figure size 432x288 with 1 Axes>"
      ]
     },
     "metadata": {
      "needs_background": "light"
     },
     "output_type": "display_data"
    }
   ],
   "source": [
    "#random walk series is not predicable \n",
    "\n",
    "from random import seed \n",
    "from random import random\n",
    "from matplotlib import pyplot\n",
    "from sklearn.metrics import mean_squared_error\n",
    "\n",
    "seed(1)\n",
    "random_walk=list()\n",
    "random_walk.append(-1 if random() <0.5 else 1)\n",
    "\n",
    "for i in range(1,10):\n",
    "    movment=-1 if random() <0.5 else 1\n",
    "    value=random_walk[i-1]+movment\n",
    "    random_walk.append(value)\n",
    "    print(random_walk)\n",
    "\n",
    "pyplot.plot(random_walk)\n",
    "pyplot.show()"
   ]
  },
  {
   "cell_type": "code",
   "execution_count": 3,
   "metadata": {},
   "outputs": [
    {
     "name": "stdout",
     "output_type": "stream",
     "text": [
      "test: [-1, 0, -1, -2]\n",
      "predictions: [-2, -1, 0, -1]\n",
      "Persistence MSE: 1.000\n"
     ]
    }
   ],
   "source": [
    "#random walk series is not predicable\n",
    "#because random walk are dependent on time (the current observation is a random step from the previous observation)\n",
    "\n",
    "from random import seed \n",
    "from random import random\n",
    "from sklearn.metrics import mean_squared_error\n",
    "\n",
    "seed(1)\n",
    "random_walk=list()\n",
    "random_walk.append(-1 if random() <0.5 else 1)\n",
    "\n",
    "for i in range(1,10):\n",
    "    movment=-1 if random() <0.5 else 1\n",
    "    value=random_walk[i-1]+movment\n",
    "    random_walk.append(value)    \n",
    "    \n",
    "train_size=int(len(random_walk)*0.66)\n",
    "train,test=random_walk[0:train_size],random_walk[train_size:]\n",
    "\n",
    "#persistence model\n",
    "#https://www.sciencedirect.com/topics/engineering/persistence-model\n",
    "predictions=list()\n",
    "history=train[-1]\n",
    "\n",
    "for i in range(len(test)):\n",
    "    yhat=history\n",
    "    predictions.append(yhat)\n",
    "    history=test[i]\n",
    "\n",
    "print('test:',test)\n",
    "print('predictions:',predictions)\n",
    "error=mean_squared_error(test,predictions)\n",
    "\n",
    "\n",
    "#This too is expected, given that we know that the variation from one time step to the next is always going to be 1\n",
    "print(\"Persistence MSE: %.3f\" % error)"
   ]
  },
  {
   "cell_type": "code",
   "execution_count": 4,
   "metadata": {},
   "outputs": [
    {
     "name": "stdout",
     "output_type": "stream",
     "text": [
      "Persistence MSE: 1.765\n",
      "From this, we know the persistence model is the best forecasting of random walk time series\n"
     ]
    }
   ],
   "source": [
    "#Persistence model is the best prediction we can make for a random walk time series, we see above MSE=1\n",
    "#Based on persistence model, we add some noice and check it's performance.\n",
    "\n",
    "seed(1)\n",
    "random_walk=list()\n",
    "random_walk.append(-1 if random() <0.5 else 1)\n",
    "for i in range(1, 1000):\n",
    "    movement = -1 if random() < 0.5 else 1\n",
    "    value = random_walk[i-1] + movement\n",
    "    random_walk.append(value)\n",
    "train_size = int(len(random_walk) * 0.66)\n",
    "train, test = random_walk[0:train_size], random_walk[train_size:]\n",
    "\n",
    "# random prediction\n",
    "predictions = list()\n",
    "history = train[-1]\n",
    "\n",
    "for i in range(len(test)):\n",
    "    yhat=history+ (-1 if random() < 0.5 else 1)\n",
    "    predictions.append(yhat)\n",
    "    history=test[i]\n",
    "error=mean_squared_error(test,predictions)\n",
    "\n",
    "print(\"Persistence MSE: %.3f\" % error)\n",
    "print(\"From this, we know the persistence model is the best forecasting of random walk time series\") "
   ]
  },
  {
   "cell_type": "code",
   "execution_count": null,
   "metadata": {},
   "outputs": [],
   "source": []
  },
  {
   "cell_type": "code",
   "execution_count": null,
   "metadata": {},
   "outputs": [],
   "source": []
  },
  {
   "cell_type": "code",
   "execution_count": null,
   "metadata": {},
   "outputs": [],
   "source": []
  },
  {
   "cell_type": "code",
   "execution_count": null,
   "metadata": {},
   "outputs": [],
   "source": []
  }
 ],
 "metadata": {
  "kernelspec": {
   "display_name": "Python 3",
   "language": "python",
   "name": "python3"
  },
  "language_info": {
   "codemirror_mode": {
    "name": "ipython",
    "version": 3
   },
   "file_extension": ".py",
   "mimetype": "text/x-python",
   "name": "python",
   "nbconvert_exporter": "python",
   "pygments_lexer": "ipython3",
   "version": "3.7.9"
  },
  "varInspector": {
   "cols": {
    "lenName": 16,
    "lenType": 16,
    "lenVar": 40
   },
   "kernels_config": {
    "python": {
     "delete_cmd_postfix": "",
     "delete_cmd_prefix": "del ",
     "library": "var_list.py",
     "varRefreshCmd": "print(var_dic_list())"
    },
    "r": {
     "delete_cmd_postfix": ") ",
     "delete_cmd_prefix": "rm(",
     "library": "var_list.r",
     "varRefreshCmd": "cat(var_dic_list()) "
    }
   },
   "types_to_exclude": [
    "module",
    "function",
    "builtin_function_or_method",
    "instance",
    "_Feature"
   ],
   "window_display": false
  }
 },
 "nbformat": 4,
 "nbformat_minor": 4
}
