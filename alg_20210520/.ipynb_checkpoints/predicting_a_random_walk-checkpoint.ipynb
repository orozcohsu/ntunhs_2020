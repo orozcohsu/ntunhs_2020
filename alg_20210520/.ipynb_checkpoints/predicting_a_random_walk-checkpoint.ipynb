{
 "cells": [
  {
   "cell_type": "code",
   "execution_count": 14,
   "metadata": {},
   "outputs": [
    {
     "name": "stdout",
     "output_type": "stream",
     "text": [
      "Persistence MSE: 1.000\n"
     ]
    }
   ],
   "source": [
    "#random walk series is not predicable \n",
    "\n",
    "from random import seed \n",
    "from random import random\n",
    "from sklearn.metrics import mean_squared_error\n",
    "\n",
    "seed(1)\n",
    "random_walk=list()\n",
    "random_walk.append(-1 if random() <0.5 else 1)\n",
    "for i in range(1,1000):\n",
    "    movment=-1 if random() <0.5 else 1\n",
    "    value=random_walk[i-1]+movment\n",
    "    random_walk.append(value)\n",
    "    \n",
    "train_size=int(len(random_walk)*0.66)\n",
    "train,test=random_walk[0:train_size],random_walk[train_size:]\n",
    "\n",
    "#persistence \n",
    "predictions=list()\n",
    "history=train[-1]\n",
    "\n",
    "for i in range(len(test)):\n",
    "    yhat=history\n",
    "    predictions.append(yhat)\n",
    "    history=test[i]\n",
    "error=mean_squared_error(test,predictions)\n",
    "\n",
    "print(\"Persistence MSE: %.3f\" % error)"
   ]
  },
  {
   "cell_type": "code",
   "execution_count": 18,
   "metadata": {},
   "outputs": [
    {
     "name": "stdout",
     "output_type": "stream",
     "text": [
      "Persistence MSE: 1.765\n"
     ]
    }
   ],
   "source": [
    "#A worse performance than the persistence method, with a mean squared error of 1.765.\n",
    "\n",
    "seed(1)\n",
    "random_walk=list()\n",
    "random_walk.append(-1 if random() <0.5 else 1)\n",
    "for i in range(1, 1000):\n",
    "    movement = -1 if random() < 0.5 else 1\n",
    "    value = random_walk[i-1] + movement\n",
    "    random_walk.append(value)\n",
    "train_size = int(len(random_walk) * 0.66)\n",
    "train, test = random_walk[0:train_size], random_walk[train_size:]\n",
    "# random prediction\n",
    "predictions = list()\n",
    "history = train[-1]\n",
    "\n",
    "for i in range(len(test)):\n",
    "    yhat=history+ (-1 if random() < 0.5 else 1)\n",
    "    predictions.append(yhat)\n",
    "    history=test[i]\n",
    "error=mean_squared_error(test,predictions)\n",
    "\n",
    "print(\"Persistence MSE: %.3f\" % error)"
   ]
  },
  {
   "cell_type": "code",
   "execution_count": null,
   "metadata": {},
   "outputs": [],
   "source": []
  }
 ],
 "metadata": {
  "kernelspec": {
   "display_name": "Python 3",
   "language": "python",
   "name": "python3"
  },
  "language_info": {
   "codemirror_mode": {
    "name": "ipython",
    "version": 3
   },
   "file_extension": ".py",
   "mimetype": "text/x-python",
   "name": "python",
   "nbconvert_exporter": "python",
   "pygments_lexer": "ipython3",
   "version": "3.7.9"
  },
  "varInspector": {
   "cols": {
    "lenName": 16,
    "lenType": 16,
    "lenVar": 40
   },
   "kernels_config": {
    "python": {
     "delete_cmd_postfix": "",
     "delete_cmd_prefix": "del ",
     "library": "var_list.py",
     "varRefreshCmd": "print(var_dic_list())"
    },
    "r": {
     "delete_cmd_postfix": ") ",
     "delete_cmd_prefix": "rm(",
     "library": "var_list.r",
     "varRefreshCmd": "cat(var_dic_list()) "
    }
   },
   "types_to_exclude": [
    "module",
    "function",
    "builtin_function_or_method",
    "instance",
    "_Feature"
   ],
   "window_display": false
  }
 },
 "nbformat": 4,
 "nbformat_minor": 4
}
