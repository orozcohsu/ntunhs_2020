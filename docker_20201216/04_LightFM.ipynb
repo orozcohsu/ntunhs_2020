{
 "cells": [
  {
   "cell_type": "code",
   "execution_count": 1,
   "metadata": {},
   "outputs": [],
   "source": [
    "import numpy as np\n",
    "import pandas as pd"
   ]
  },
  {
   "cell_type": "code",
   "execution_count": 2,
   "metadata": {
    "scrolled": true
   },
   "outputs": [
    {
     "data": {
      "text/html": [
       "<div>\n",
       "<style scoped>\n",
       "    .dataframe tbody tr th:only-of-type {\n",
       "        vertical-align: middle;\n",
       "    }\n",
       "\n",
       "    .dataframe tbody tr th {\n",
       "        vertical-align: top;\n",
       "    }\n",
       "\n",
       "    .dataframe thead th {\n",
       "        text-align: right;\n",
       "    }\n",
       "</style>\n",
       "<table border=\"1\" class=\"dataframe\">\n",
       "  <thead>\n",
       "    <tr style=\"text-align: right;\">\n",
       "      <th></th>\n",
       "      <th>timestamp</th>\n",
       "      <th>visitorid</th>\n",
       "      <th>event</th>\n",
       "      <th>itemid</th>\n",
       "      <th>transactionid</th>\n",
       "    </tr>\n",
       "  </thead>\n",
       "  <tbody>\n",
       "    <tr>\n",
       "      <th>0</th>\n",
       "      <td>1433221373311</td>\n",
       "      <td>781127</td>\n",
       "      <td>view</td>\n",
       "      <td>21989</td>\n",
       "      <td>NaN</td>\n",
       "    </tr>\n",
       "    <tr>\n",
       "      <th>1</th>\n",
       "      <td>1433222147345</td>\n",
       "      <td>1076270</td>\n",
       "      <td>view</td>\n",
       "      <td>262799</td>\n",
       "      <td>NaN</td>\n",
       "    </tr>\n",
       "    <tr>\n",
       "      <th>2</th>\n",
       "      <td>1433221380636</td>\n",
       "      <td>849453</td>\n",
       "      <td>view</td>\n",
       "      <td>123990</td>\n",
       "      <td>NaN</td>\n",
       "    </tr>\n",
       "    <tr>\n",
       "      <th>3</th>\n",
       "      <td>1433223176926</td>\n",
       "      <td>629333</td>\n",
       "      <td>view</td>\n",
       "      <td>128394</td>\n",
       "      <td>NaN</td>\n",
       "    </tr>\n",
       "    <tr>\n",
       "      <th>4</th>\n",
       "      <td>1433222897013</td>\n",
       "      <td>492414</td>\n",
       "      <td>view</td>\n",
       "      <td>279976</td>\n",
       "      <td>NaN</td>\n",
       "    </tr>\n",
       "  </tbody>\n",
       "</table>\n",
       "</div>"
      ],
      "text/plain": [
       "       timestamp  visitorid event  itemid  transactionid\n",
       "0  1433221373311     781127  view   21989            NaN\n",
       "1  1433222147345    1076270  view  262799            NaN\n",
       "2  1433221380636     849453  view  123990            NaN\n",
       "3  1433223176926     629333  view  128394            NaN\n",
       "4  1433222897013     492414  view  279976            NaN"
      ]
     },
     "execution_count": 2,
     "metadata": {},
     "output_type": "execute_result"
    }
   ],
   "source": [
    "rating_df = pd.read_csv('data/events.csv')\n",
    "rating_df.head()"
   ]
  },
  {
   "cell_type": "code",
   "execution_count": 21,
   "metadata": {},
   "outputs": [
    {
     "data": {
      "text/html": [
       "<div>\n",
       "<style scoped>\n",
       "    .dataframe tbody tr th:only-of-type {\n",
       "        vertical-align: middle;\n",
       "    }\n",
       "\n",
       "    .dataframe tbody tr th {\n",
       "        vertical-align: top;\n",
       "    }\n",
       "\n",
       "    .dataframe thead th {\n",
       "        text-align: right;\n",
       "    }\n",
       "</style>\n",
       "<table border=\"1\" class=\"dataframe\">\n",
       "  <thead>\n",
       "    <tr style=\"text-align: right;\">\n",
       "      <th></th>\n",
       "      <th>timestamp</th>\n",
       "      <th>visitorid</th>\n",
       "      <th>event</th>\n",
       "      <th>itemid</th>\n",
       "      <th>transactionid</th>\n",
       "    </tr>\n",
       "  </thead>\n",
       "  <tbody>\n",
       "    <tr>\n",
       "      <th>34513</th>\n",
       "      <td>1430622118534</td>\n",
       "      <td>584571</td>\n",
       "      <td>view</td>\n",
       "      <td>436195</td>\n",
       "      <td>NaN</td>\n",
       "    </tr>\n",
       "    <tr>\n",
       "      <th>34476</th>\n",
       "      <td>1430622162554</td>\n",
       "      <td>837890</td>\n",
       "      <td>view</td>\n",
       "      <td>2519</td>\n",
       "      <td>NaN</td>\n",
       "    </tr>\n",
       "    <tr>\n",
       "      <th>34471</th>\n",
       "      <td>1430622330806</td>\n",
       "      <td>990356</td>\n",
       "      <td>view</td>\n",
       "      <td>369532</td>\n",
       "      <td>NaN</td>\n",
       "    </tr>\n",
       "    <tr>\n",
       "      <th>34484</th>\n",
       "      <td>1430622469247</td>\n",
       "      <td>584571</td>\n",
       "      <td>view</td>\n",
       "      <td>436195</td>\n",
       "      <td>NaN</td>\n",
       "    </tr>\n",
       "    <tr>\n",
       "      <th>34470</th>\n",
       "      <td>1430622609378</td>\n",
       "      <td>1002397</td>\n",
       "      <td>view</td>\n",
       "      <td>77392</td>\n",
       "      <td>NaN</td>\n",
       "    </tr>\n",
       "    <tr>\n",
       "      <th>34514</th>\n",
       "      <td>1430622790487</td>\n",
       "      <td>1375898</td>\n",
       "      <td>view</td>\n",
       "      <td>64152</td>\n",
       "      <td>NaN</td>\n",
       "    </tr>\n",
       "    <tr>\n",
       "      <th>34472</th>\n",
       "      <td>1430622933406</td>\n",
       "      <td>823085</td>\n",
       "      <td>view</td>\n",
       "      <td>131879</td>\n",
       "      <td>NaN</td>\n",
       "    </tr>\n",
       "    <tr>\n",
       "      <th>34477</th>\n",
       "      <td>1430623098261</td>\n",
       "      <td>1061274</td>\n",
       "      <td>view</td>\n",
       "      <td>356129</td>\n",
       "      <td>NaN</td>\n",
       "    </tr>\n",
       "    <tr>\n",
       "      <th>34485</th>\n",
       "      <td>1430623224021</td>\n",
       "      <td>823085</td>\n",
       "      <td>view</td>\n",
       "      <td>214519</td>\n",
       "      <td>NaN</td>\n",
       "    </tr>\n",
       "    <tr>\n",
       "      <th>34473</th>\n",
       "      <td>1430623241016</td>\n",
       "      <td>122517</td>\n",
       "      <td>view</td>\n",
       "      <td>232129</td>\n",
       "      <td>NaN</td>\n",
       "    </tr>\n",
       "  </tbody>\n",
       "</table>\n",
       "</div>"
      ],
      "text/plain": [
       "           timestamp  visitorid event  itemid  transactionid\n",
       "34513  1430622118534     584571  view  436195            NaN\n",
       "34476  1430622162554     837890  view    2519            NaN\n",
       "34471  1430622330806     990356  view  369532            NaN\n",
       "34484  1430622469247     584571  view  436195            NaN\n",
       "34470  1430622609378    1002397  view   77392            NaN\n",
       "34514  1430622790487    1375898  view   64152            NaN\n",
       "34472  1430622933406     823085  view  131879            NaN\n",
       "34477  1430623098261    1061274  view  356129            NaN\n",
       "34485  1430623224021     823085  view  214519            NaN\n",
       "34473  1430623241016     122517  view  232129            NaN"
      ]
     },
     "execution_count": 21,
     "metadata": {},
     "output_type": "execute_result"
    }
   ],
   "source": [
    "# sort data frame by timestemp for trian/ val split\n",
    "rating_df = rating_df.sort_values('timestamp')\n",
    "rating_df.head(10)"
   ]
  },
  {
   "cell_type": "code",
   "execution_count": 22,
   "metadata": {},
   "outputs": [],
   "source": [
    "# map user id and item id to integer starting from 0 to N (num of users) and M (num of items)\n",
    "from sklearn.preprocessing import LabelEncoder\n",
    "user_encoder = LabelEncoder()\n",
    "item_encoder = LabelEncoder()\n",
    "\n",
    "rating_df['visitorid'] = user_encoder.fit_transform(rating_df.visitorid)\n",
    "rating_df['itemid'] = item_encoder.fit_transform(rating_df.itemid)"
   ]
  },
  {
   "cell_type": "code",
   "execution_count": 23,
   "metadata": {},
   "outputs": [
    {
     "data": {
      "text/plain": [
       "(27372, 9098)"
      ]
     },
     "execution_count": 23,
     "metadata": {},
     "output_type": "execute_result"
    }
   ],
   "source": [
    "num_users = rating_df.visitorid.max()+1\n",
    "num_items = rating_df.itemid.max()+1\n",
    "num_users, num_items"
   ]
  },
  {
   "cell_type": "code",
   "execution_count": 8,
   "metadata": {
    "scrolled": true
   },
   "outputs": [
    {
     "data": {
      "text/html": [
       "<div>\n",
       "<style scoped>\n",
       "    .dataframe tbody tr th:only-of-type {\n",
       "        vertical-align: middle;\n",
       "    }\n",
       "\n",
       "    .dataframe tbody tr th {\n",
       "        vertical-align: top;\n",
       "    }\n",
       "\n",
       "    .dataframe thead th {\n",
       "        text-align: right;\n",
       "    }\n",
       "</style>\n",
       "<table border=\"1\" class=\"dataframe\">\n",
       "  <thead>\n",
       "    <tr style=\"text-align: right;\">\n",
       "      <th></th>\n",
       "      <th>timestamp</th>\n",
       "      <th>visitorid</th>\n",
       "      <th>event</th>\n",
       "      <th>itemid</th>\n",
       "      <th>transactionid</th>\n",
       "      <th>appearance</th>\n",
       "    </tr>\n",
       "  </thead>\n",
       "  <tbody>\n",
       "    <tr>\n",
       "      <th>8</th>\n",
       "      <td>1433191760912</td>\n",
       "      <td>3</td>\n",
       "      <td>view</td>\n",
       "      <td>4</td>\n",
       "      <td>NaN</td>\n",
       "      <td>2.0</td>\n",
       "    </tr>\n",
       "    <tr>\n",
       "      <th>7</th>\n",
       "      <td>1433193703544</td>\n",
       "      <td>3</td>\n",
       "      <td>view</td>\n",
       "      <td>5</td>\n",
       "      <td>NaN</td>\n",
       "      <td>1.0</td>\n",
       "    </tr>\n",
       "    <tr>\n",
       "      <th>6</th>\n",
       "      <td>1433193877348</td>\n",
       "      <td>0</td>\n",
       "      <td>view</td>\n",
       "      <td>1</td>\n",
       "      <td>NaN</td>\n",
       "      <td>1.0</td>\n",
       "    </tr>\n",
       "    <tr>\n",
       "      <th>5</th>\n",
       "      <td>1433194739377</td>\n",
       "      <td>1</td>\n",
       "      <td>view</td>\n",
       "      <td>8</td>\n",
       "      <td>NaN</td>\n",
       "      <td>3.0</td>\n",
       "    </tr>\n",
       "    <tr>\n",
       "      <th>0</th>\n",
       "      <td>1433221373311</td>\n",
       "      <td>2</td>\n",
       "      <td>view</td>\n",
       "      <td>0</td>\n",
       "      <td>NaN</td>\n",
       "      <td>2.0</td>\n",
       "    </tr>\n",
       "    <tr>\n",
       "      <th>2</th>\n",
       "      <td>1433221380636</td>\n",
       "      <td>4</td>\n",
       "      <td>view</td>\n",
       "      <td>2</td>\n",
       "      <td>NaN</td>\n",
       "      <td>1.0</td>\n",
       "    </tr>\n",
       "    <tr>\n",
       "      <th>1</th>\n",
       "      <td>1433222147345</td>\n",
       "      <td>2</td>\n",
       "      <td>view</td>\n",
       "      <td>6</td>\n",
       "      <td>NaN</td>\n",
       "      <td>1.0</td>\n",
       "    </tr>\n",
       "    <tr>\n",
       "      <th>4</th>\n",
       "      <td>1433222897013</td>\n",
       "      <td>1</td>\n",
       "      <td>view</td>\n",
       "      <td>7</td>\n",
       "      <td>NaN</td>\n",
       "      <td>2.0</td>\n",
       "    </tr>\n",
       "    <tr>\n",
       "      <th>3</th>\n",
       "      <td>1433223176926</td>\n",
       "      <td>1</td>\n",
       "      <td>view</td>\n",
       "      <td>3</td>\n",
       "      <td>NaN</td>\n",
       "      <td>1.0</td>\n",
       "    </tr>\n",
       "  </tbody>\n",
       "</table>\n",
       "</div>"
      ],
      "text/plain": [
       "       timestamp  visitorid event  itemid  transactionid  appearance\n",
       "8  1433191760912          3  view       4            NaN         2.0\n",
       "7  1433193703544          3  view       5            NaN         1.0\n",
       "6  1433193877348          0  view       1            NaN         1.0\n",
       "5  1433194739377          1  view       8            NaN         3.0\n",
       "0  1433221373311          2  view       0            NaN         2.0\n",
       "2  1433221380636          4  view       2            NaN         1.0\n",
       "1  1433222147345          2  view       6            NaN         1.0\n",
       "4  1433222897013          1  view       7            NaN         2.0\n",
       "3  1433223176926          1  view       3            NaN         1.0"
      ]
     },
     "execution_count": 8,
     "metadata": {},
     "output_type": "execute_result"
    }
   ],
   "source": [
    "# group by visitorid and call \"rank\" to know the number of click for that user. We set ascending=false so that the\n",
    "# last click has appearance = 1\n",
    "\n",
    "rating_df['appearance'] = rating_df.groupby('visitorid').timestamp.rank(ascending=False)\n",
    "rating_df.head(15)"
   ]
  },
  {
   "cell_type": "code",
   "execution_count": 9,
   "metadata": {
    "scrolled": true
   },
   "outputs": [
    {
     "data": {
      "text/plain": [
       "((4, 6), (5, 6))"
      ]
     },
     "execution_count": 9,
     "metadata": {},
     "output_type": "execute_result"
    }
   ],
   "source": [
    "# train / val split\n",
    "train_df = rating_df.loc[rating_df.appearance>1]\n",
    "val_df = rating_df.loc[rating_df.appearance==1]\n",
    "train_df.shape, val_df.shape"
   ]
  },
  {
   "cell_type": "code",
   "execution_count": 10,
   "metadata": {},
   "outputs": [
    {
     "name": "stderr",
     "output_type": "stream",
     "text": [
      "C:\\Users\\gpu\\.conda\\envs\\project-591\\lib\\site-packages\\ipykernel_launcher.py:4: SettingWithCopyWarning: \n",
      "A value is trying to be set on a copy of a slice from a DataFrame\n",
      "\n",
      "See the caveats in the documentation: https://pandas.pydata.org/pandas-docs/stable/user_guide/indexing.html#returning-a-view-versus-a-copy\n",
      "  after removing the cwd from sys.path.\n"
     ]
    }
   ],
   "source": [
    "# remove duplicate (visitorid,itemid) pair\n",
    "\n",
    "train_df.drop_duplicates(['visitorid','itemid'],inplace=True)"
   ]
  },
  {
   "cell_type": "code",
   "execution_count": 13,
   "metadata": {},
   "outputs": [
    {
     "data": {
      "text/plain": [
       "4.0"
      ]
     },
     "execution_count": 13,
     "metadata": {},
     "output_type": "execute_result"
    }
   ],
   "source": [
    "from scipy.sparse import csr_matrix\n",
    "# construct user-item rating matrix\n",
    "user2item = csr_matrix( (np.ones(len(train_df)), (train_df.visitorid.values ,train_df.itemid.values)), shape=(num_users, num_items), dtype=np.float32 )\n",
    "user2item.sum()"
   ]
  },
  {
   "cell_type": "code",
   "execution_count": 15,
   "metadata": {},
   "outputs": [
    {
     "name": "stdout",
     "output_type": "stream",
     "text": [
      "Collecting lightfm\n",
      "  Downloading lightfm-1.16.tar.gz (310 kB)\n",
      "Requirement already satisfied: numpy in c:\\users\\gpu\\.conda\\envs\\project-591\\lib\\site-packages (from lightfm) (1.19.1)\n",
      "Requirement already satisfied: scipy>=0.17.0 in c:\\users\\gpu\\.conda\\envs\\project-591\\lib\\site-packages (from lightfm) (1.5.2)\n",
      "Collecting requests\n",
      "  Downloading requests-2.25.0-py2.py3-none-any.whl (61 kB)\n",
      "Requirement already satisfied: scikit-learn in c:\\users\\gpu\\.conda\\envs\\project-591\\lib\\site-packages (from lightfm) (0.23.2)\n",
      "Collecting urllib3<1.27,>=1.21.1\n",
      "  Downloading urllib3-1.26.2-py2.py3-none-any.whl (136 kB)\n",
      "Collecting idna<3,>=2.5\n",
      "  Downloading idna-2.10-py2.py3-none-any.whl (58 kB)\n",
      "Collecting chardet<4,>=3.0.2\n",
      "  Using cached chardet-3.0.4-py2.py3-none-any.whl (133 kB)\n",
      "Requirement already satisfied: certifi>=2017.4.17 in c:\\users\\gpu\\.conda\\envs\\project-591\\lib\\site-packages (from requests->lightfm) (2020.6.20)\n",
      "Requirement already satisfied: threadpoolctl>=2.0.0 in c:\\users\\gpu\\.conda\\envs\\project-591\\lib\\site-packages (from scikit-learn->lightfm) (2.1.0)\n",
      "Requirement already satisfied: joblib>=0.11 in c:\\users\\gpu\\.conda\\envs\\project-591\\lib\\site-packages (from scikit-learn->lightfm) (0.16.0)\n",
      "Building wheels for collected packages: lightfm\n",
      "  Building wheel for lightfm (setup.py): started\n",
      "  Building wheel for lightfm (setup.py): finished with status 'done'\n",
      "  Created wheel for lightfm: filename=lightfm-1.16-cp37-cp37m-win_amd64.whl size=426513 sha256=685c60b26fc556ac456885cfdc989201975a734a85bcdd8f3078469538acd98c\n",
      "  Stored in directory: c:\\users\\gpu\\appdata\\local\\pip\\cache\\wheels\\f8\\56\\28\\5772a3bd3413d65f03aa452190b00898b680b10028a1021914\n",
      "Successfully built lightfm\n",
      "Installing collected packages: urllib3, idna, chardet, requests, lightfm\n",
      "Successfully installed chardet-3.0.4 idna-2.10 lightfm-1.16 requests-2.25.0 urllib3-1.26.2\n"
     ]
    },
    {
     "name": "stderr",
     "output_type": "stream",
     "text": [
      "C:\\Users\\gpu\\.conda\\envs\\project-591\\lib\\site-packages\\lightfm\\_lightfm_fast.py:10: UserWarning: LightFM was compiled without OpenMP support. Only a single thread will be used.\n",
      "  \"LightFM was compiled without OpenMP support. \"\n"
     ]
    },
    {
     "data": {
      "text/plain": [
       "<lightfm.lightfm.LightFM at 0x9923b88>"
      ]
     },
     "execution_count": 15,
     "metadata": {},
     "output_type": "execute_result"
    }
   ],
   "source": [
    "!pip install lightfm\n",
    "from lightfm import LightFM\n",
    "# training\n",
    "\n",
    "model = LightFM(no_components=32, loss='warp')\n",
    "model.fit(interactions=user2item,epochs=150)"
   ]
  },
  {
   "cell_type": "code",
   "execution_count": 16,
   "metadata": {},
   "outputs": [],
   "source": [
    "def mean_reciprocal_rank(rs):\n",
    "    rs = (np.asarray(r).nonzero()[0] for r in rs)\n",
    "    return np.mean([1. / (r[0] + 1) if r.size else 0. for r in rs])\n"
   ]
  },
  {
   "cell_type": "code",
   "execution_count": 17,
   "metadata": {},
   "outputs": [],
   "source": [
    "# obtain the user and item ids in the validation set\n",
    "val_user_ids = val_df.visitorid.values\n",
    "val_gts = val_df.itemid.values"
   ]
  },
  {
   "cell_type": "code",
   "execution_count": 19,
   "metadata": {
    "scrolled": true
   },
   "outputs": [
    {
     "name": "stderr",
     "output_type": "stream",
     "text": [
      "5it [00:00, ?it/s]"
     ]
    },
    {
     "name": "stdout",
     "output_type": "stream",
     "text": [
      "Collecting tqdm\n",
      "  Downloading tqdm-4.54.1-py2.py3-none-any.whl (69 kB)\n",
      "Installing collected packages: tqdm\n",
      "Successfully installed tqdm-4.54.1\n"
     ]
    },
    {
     "name": "stderr",
     "output_type": "stream",
     "text": [
      "\n"
     ]
    },
    {
     "data": {
      "text/plain": [
       "0.14912698412698414"
      ]
     },
     "execution_count": 19,
     "metadata": {},
     "output_type": "execute_result"
    }
   ],
   "source": [
    "!pip install tqdm\n",
    "from tqdm import tqdm\n",
    "def evaluate_prediction(model, val_user_ids, val_gts):\n",
    "    '''\n",
    "    Return the average mrr for each users\n",
    "    args:\n",
    "        predictions: np.array user-item predictions\n",
    "    returns:\n",
    "        ndcg: float, computed MRR\n",
    "    '''\n",
    "\n",
    "    hits = []\n",
    "    \n",
    "    # iterate over user and item pair in the validation set\n",
    "    for target_user, val_gt in tqdm(zip(val_user_ids, val_gts)):\n",
    "\n",
    "        \n",
    "        predictions = model.predict(user_ids= np.array([target_user] * num_items), item_ids=np.arange(num_items) )\n",
    "        rankings = np.flip(np.argsort(predictions))\n",
    "        hits.append(rankings == val_gt)\n",
    "\n",
    "    mrr = mean_reciprocal_rank(hits)\n",
    "\n",
    "    return mrr\n",
    "mrr = evaluate_prediction(model, val_user_ids[:100],val_gts[:100])\n",
    "mrr"
   ]
  },
  {
   "cell_type": "code",
   "execution_count": null,
   "metadata": {},
   "outputs": [],
   "source": []
  }
 ],
 "metadata": {
  "kernelspec": {
   "display_name": "Python 3",
   "language": "python",
   "name": "python3"
  },
  "language_info": {
   "codemirror_mode": {
    "name": "ipython",
    "version": 3
   },
   "file_extension": ".py",
   "mimetype": "text/x-python",
   "name": "python",
   "nbconvert_exporter": "python",
   "pygments_lexer": "ipython3",
   "version": "3.7.9"
  },
  "varInspector": {
   "cols": {
    "lenName": 16,
    "lenType": 16,
    "lenVar": 40
   },
   "kernels_config": {
    "python": {
     "delete_cmd_postfix": "",
     "delete_cmd_prefix": "del ",
     "library": "var_list.py",
     "varRefreshCmd": "print(var_dic_list())"
    },
    "r": {
     "delete_cmd_postfix": ") ",
     "delete_cmd_prefix": "rm(",
     "library": "var_list.r",
     "varRefreshCmd": "cat(var_dic_list()) "
    }
   },
   "types_to_exclude": [
    "module",
    "function",
    "builtin_function_or_method",
    "instance",
    "_Feature"
   ],
   "window_display": false
  }
 },
 "nbformat": 4,
 "nbformat_minor": 2
}
